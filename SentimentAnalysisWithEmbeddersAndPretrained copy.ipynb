{
 "cells": [
  {
   "cell_type": "markdown",
   "id": "6c7e2e21",
   "metadata": {},
   "source": [
    "# Sentiment Analysis with Multilingual BERT Embeddings\n",
    "Este notebook construye un pipeline reproducible que usa `paraphrase-multilingual-MiniLM-L12-v2` para generar embeddings y entrenar un `MLPClassifier` optimizado sobre el dataset `poem_sentiment`."
   ]
  },
  {
   "cell_type": "markdown",
   "id": "5a530f55",
   "metadata": {},
   "source": [
    "## 1. Configurar dependencias y entorno\n",
    "Instala las dependencias clave, importa librerías de análisis y fija la semilla para reproducibilidad."
   ]
  },
  {
   "cell_type": "code",
   "execution_count": 1,
   "id": "d946f0fc",
   "metadata": {},
   "outputs": [
    {
     "name": "stdout",
     "output_type": "stream",
     "text": [
      "Requirement already satisfied: numpy in c:\\users\\osorn\\anaconda3\\envs\\dipenv\\lib\\site-packages (2.3.4)\n",
      "Requirement already satisfied: pandas in c:\\users\\osorn\\anaconda3\\envs\\dipenv\\lib\\site-packages (2.3.3)\n",
      "Requirement already satisfied: scikit-learn in c:\\users\\osorn\\anaconda3\\envs\\dipenv\\lib\\site-packages (1.7.2)\n",
      "Requirement already satisfied: sentence-transformers in c:\\users\\osorn\\anaconda3\\envs\\dipenv\\lib\\site-packages (5.1.2)\n",
      "Requirement already satisfied: matplotlib in c:\\users\\osorn\\anaconda3\\envs\\dipenv\\lib\\site-packages (3.10.7)\n",
      "Requirement already satisfied: seaborn in c:\\users\\osorn\\anaconda3\\envs\\dipenv\\lib\\site-packages (0.13.2)\n",
      "Requirement already satisfied: joblib in c:\\users\\osorn\\anaconda3\\envs\\dipenv\\lib\\site-packages (1.5.2)\n",
      "Requirement already satisfied: tqdm in c:\\users\\osorn\\anaconda3\\envs\\dipenv\\lib\\site-packages (4.67.1)\n",
      "Requirement already satisfied: ipywidgets in c:\\users\\osorn\\anaconda3\\envs\\dipenv\\lib\\site-packages (8.1.7)\n",
      "Requirement already satisfied: fastparquet in c:\\users\\osorn\\anaconda3\\envs\\dipenv\\lib\\site-packages (2024.11.0)\n",
      "Requirement already satisfied: python-dateutil>=2.8.2 in c:\\users\\osorn\\anaconda3\\envs\\dipenv\\lib\\site-packages (from pandas) (2.9.0.post0)\n",
      "Requirement already satisfied: pytz>=2020.1 in c:\\users\\osorn\\anaconda3\\envs\\dipenv\\lib\\site-packages (from pandas) (2025.2)\n",
      "Requirement already satisfied: tzdata>=2022.7 in c:\\users\\osorn\\anaconda3\\envs\\dipenv\\lib\\site-packages (from pandas) (2025.2)\n",
      "Requirement already satisfied: scipy>=1.8.0 in c:\\users\\osorn\\anaconda3\\envs\\dipenv\\lib\\site-packages (from scikit-learn) (1.16.2)\n",
      "Requirement already satisfied: threadpoolctl>=3.1.0 in c:\\users\\osorn\\anaconda3\\envs\\dipenv\\lib\\site-packages (from scikit-learn) (3.6.0)\n",
      "Requirement already satisfied: transformers<5.0.0,>=4.41.0 in c:\\users\\osorn\\anaconda3\\envs\\dipenv\\lib\\site-packages (from sentence-transformers) (4.57.1)\n",
      "Requirement already satisfied: torch>=1.11.0 in c:\\users\\osorn\\anaconda3\\envs\\dipenv\\lib\\site-packages (from sentence-transformers) (2.9.0)\n",
      "Requirement already satisfied: huggingface-hub>=0.20.0 in c:\\users\\osorn\\anaconda3\\envs\\dipenv\\lib\\site-packages (from sentence-transformers) (0.36.0)\n",
      "Requirement already satisfied: Pillow in c:\\users\\osorn\\anaconda3\\envs\\dipenv\\lib\\site-packages (from sentence-transformers) (12.0.0)\n",
      "Requirement already satisfied: typing_extensions>=4.5.0 in c:\\users\\osorn\\anaconda3\\envs\\dipenv\\lib\\site-packages (from sentence-transformers) (4.15.0)\n",
      "Requirement already satisfied: filelock in c:\\users\\osorn\\anaconda3\\envs\\dipenv\\lib\\site-packages (from transformers<5.0.0,>=4.41.0->sentence-transformers) (3.20.0)\n",
      "Requirement already satisfied: packaging>=20.0 in c:\\users\\osorn\\anaconda3\\envs\\dipenv\\lib\\site-packages (from transformers<5.0.0,>=4.41.0->sentence-transformers) (25.0)\n",
      "Requirement already satisfied: pyyaml>=5.1 in c:\\users\\osorn\\anaconda3\\envs\\dipenv\\lib\\site-packages (from transformers<5.0.0,>=4.41.0->sentence-transformers) (6.0.3)\n",
      "Requirement already satisfied: regex!=2019.12.17 in c:\\users\\osorn\\anaconda3\\envs\\dipenv\\lib\\site-packages (from transformers<5.0.0,>=4.41.0->sentence-transformers) (2025.10.23)\n",
      "Requirement already satisfied: requests in c:\\users\\osorn\\anaconda3\\envs\\dipenv\\lib\\site-packages (from transformers<5.0.0,>=4.41.0->sentence-transformers) (2.32.5)\n",
      "Requirement already satisfied: tokenizers<=0.23.0,>=0.22.0 in c:\\users\\osorn\\anaconda3\\envs\\dipenv\\lib\\site-packages (from transformers<5.0.0,>=4.41.0->sentence-transformers) (0.22.1)\n",
      "Requirement already satisfied: safetensors>=0.4.3 in c:\\users\\osorn\\anaconda3\\envs\\dipenv\\lib\\site-packages (from transformers<5.0.0,>=4.41.0->sentence-transformers) (0.6.2)\n",
      "Requirement already satisfied: fsspec>=2023.5.0 in c:\\users\\osorn\\anaconda3\\envs\\dipenv\\lib\\site-packages (from huggingface-hub>=0.20.0->sentence-transformers) (2025.9.0)\n",
      "Requirement already satisfied: contourpy>=1.0.1 in c:\\users\\osorn\\anaconda3\\envs\\dipenv\\lib\\site-packages (from matplotlib) (1.3.3)\n",
      "Requirement already satisfied: cycler>=0.10 in c:\\users\\osorn\\anaconda3\\envs\\dipenv\\lib\\site-packages (from matplotlib) (0.12.1)\n",
      "Requirement already satisfied: fonttools>=4.22.0 in c:\\users\\osorn\\anaconda3\\envs\\dipenv\\lib\\site-packages (from matplotlib) (4.60.1)\n",
      "Requirement already satisfied: kiwisolver>=1.3.1 in c:\\users\\osorn\\anaconda3\\envs\\dipenv\\lib\\site-packages (from matplotlib) (1.4.9)\n",
      "Requirement already satisfied: pyparsing>=3 in c:\\users\\osorn\\anaconda3\\envs\\dipenv\\lib\\site-packages (from matplotlib) (3.2.5)\n",
      "Requirement already satisfied: colorama in c:\\users\\osorn\\anaconda3\\envs\\dipenv\\lib\\site-packages (from tqdm) (0.4.6)\n",
      "Requirement already satisfied: comm>=0.1.3 in c:\\users\\osorn\\anaconda3\\envs\\dipenv\\lib\\site-packages (from ipywidgets) (0.2.3)\n",
      "Requirement already satisfied: ipython>=6.1.0 in c:\\users\\osorn\\anaconda3\\envs\\dipenv\\lib\\site-packages (from ipywidgets) (9.6.0)\n",
      "Requirement already satisfied: traitlets>=4.3.1 in c:\\users\\osorn\\anaconda3\\envs\\dipenv\\lib\\site-packages (from ipywidgets) (5.14.3)\n",
      "Requirement already satisfied: widgetsnbextension~=4.0.14 in c:\\users\\osorn\\anaconda3\\envs\\dipenv\\lib\\site-packages (from ipywidgets) (4.0.14)\n",
      "Requirement already satisfied: jupyterlab_widgets~=3.0.15 in c:\\users\\osorn\\anaconda3\\envs\\dipenv\\lib\\site-packages (from ipywidgets) (3.0.15)\n",
      "Requirement already satisfied: cramjam>=2.3 in c:\\users\\osorn\\anaconda3\\envs\\dipenv\\lib\\site-packages (from fastparquet) (2.11.0)\n",
      "Requirement already satisfied: decorator in c:\\users\\osorn\\anaconda3\\envs\\dipenv\\lib\\site-packages (from ipython>=6.1.0->ipywidgets) (5.2.1)\n",
      "Requirement already satisfied: ipython-pygments-lexers in c:\\users\\osorn\\anaconda3\\envs\\dipenv\\lib\\site-packages (from ipython>=6.1.0->ipywidgets) (1.1.1)\n",
      "Requirement already satisfied: jedi>=0.16 in c:\\users\\osorn\\anaconda3\\envs\\dipenv\\lib\\site-packages (from ipython>=6.1.0->ipywidgets) (0.19.2)\n",
      "Requirement already satisfied: matplotlib-inline in c:\\users\\osorn\\anaconda3\\envs\\dipenv\\lib\\site-packages (from ipython>=6.1.0->ipywidgets) (0.2.1)\n",
      "Requirement already satisfied: prompt_toolkit<3.1.0,>=3.0.41 in c:\\users\\osorn\\anaconda3\\envs\\dipenv\\lib\\site-packages (from ipython>=6.1.0->ipywidgets) (3.0.52)\n",
      "Requirement already satisfied: pygments>=2.4.0 in c:\\users\\osorn\\anaconda3\\envs\\dipenv\\lib\\site-packages (from ipython>=6.1.0->ipywidgets) (2.19.2)\n",
      "Requirement already satisfied: stack_data in c:\\users\\osorn\\anaconda3\\envs\\dipenv\\lib\\site-packages (from ipython>=6.1.0->ipywidgets) (0.6.3)\n",
      "Requirement already satisfied: wcwidth in c:\\users\\osorn\\anaconda3\\envs\\dipenv\\lib\\site-packages (from prompt_toolkit<3.1.0,>=3.0.41->ipython>=6.1.0->ipywidgets) (0.2.14)\n",
      "Requirement already satisfied: parso<0.9.0,>=0.8.4 in c:\\users\\osorn\\anaconda3\\envs\\dipenv\\lib\\site-packages (from jedi>=0.16->ipython>=6.1.0->ipywidgets) (0.8.5)\n",
      "Requirement already satisfied: six>=1.5 in c:\\users\\osorn\\anaconda3\\envs\\dipenv\\lib\\site-packages (from python-dateutil>=2.8.2->pandas) (1.17.0)\n",
      "Requirement already satisfied: sympy>=1.13.3 in c:\\users\\osorn\\anaconda3\\envs\\dipenv\\lib\\site-packages (from torch>=1.11.0->sentence-transformers) (1.14.0)\n",
      "Requirement already satisfied: networkx>=2.5.1 in c:\\users\\osorn\\anaconda3\\envs\\dipenv\\lib\\site-packages (from torch>=1.11.0->sentence-transformers) (3.5)\n",
      "Requirement already satisfied: jinja2 in c:\\users\\osorn\\anaconda3\\envs\\dipenv\\lib\\site-packages (from torch>=1.11.0->sentence-transformers) (3.1.6)\n",
      "Requirement already satisfied: setuptools in c:\\users\\osorn\\anaconda3\\envs\\dipenv\\lib\\site-packages (from torch>=1.11.0->sentence-transformers) (80.9.0)\n",
      "Requirement already satisfied: mpmath<1.4,>=1.1.0 in c:\\users\\osorn\\anaconda3\\envs\\dipenv\\lib\\site-packages (from sympy>=1.13.3->torch>=1.11.0->sentence-transformers) (1.3.0)\n",
      "Requirement already satisfied: MarkupSafe>=2.0 in c:\\users\\osorn\\anaconda3\\envs\\dipenv\\lib\\site-packages (from jinja2->torch>=1.11.0->sentence-transformers) (3.0.3)\n",
      "Requirement already satisfied: charset_normalizer<4,>=2 in c:\\users\\osorn\\anaconda3\\envs\\dipenv\\lib\\site-packages (from requests->transformers<5.0.0,>=4.41.0->sentence-transformers) (3.4.4)\n",
      "Requirement already satisfied: idna<4,>=2.5 in c:\\users\\osorn\\anaconda3\\envs\\dipenv\\lib\\site-packages (from requests->transformers<5.0.0,>=4.41.0->sentence-transformers) (3.11)\n",
      "Requirement already satisfied: urllib3<3,>=1.21.1 in c:\\users\\osorn\\anaconda3\\envs\\dipenv\\lib\\site-packages (from requests->transformers<5.0.0,>=4.41.0->sentence-transformers) (2.5.0)\n",
      "Requirement already satisfied: certifi>=2017.4.17 in c:\\users\\osorn\\anaconda3\\envs\\dipenv\\lib\\site-packages (from requests->transformers<5.0.0,>=4.41.0->sentence-transformers) (2025.10.5)\n",
      "Requirement already satisfied: executing>=1.2.0 in c:\\users\\osorn\\anaconda3\\envs\\dipenv\\lib\\site-packages (from stack_data->ipython>=6.1.0->ipywidgets) (2.2.1)\n",
      "Requirement already satisfied: asttokens>=2.1.0 in c:\\users\\osorn\\anaconda3\\envs\\dipenv\\lib\\site-packages (from stack_data->ipython>=6.1.0->ipywidgets) (3.0.0)\n",
      "Requirement already satisfied: pure_eval in c:\\users\\osorn\\anaconda3\\envs\\dipenv\\lib\\site-packages (from stack_data->ipython>=6.1.0->ipywidgets) (0.2.3)\n",
      "Note: you may need to restart the kernel to use updated packages.\n"
     ]
    }
   ],
   "source": [
    "# Instala las dependencias esenciales (ejecuta esta celda una vez)\n",
    "%pip install numpy pandas scikit-learn sentence-transformers matplotlib seaborn joblib tqdm ipywidgets fastparquet"
   ]
  },
  {
   "cell_type": "code",
   "execution_count": 2,
   "id": "6b845e46",
   "metadata": {},
   "outputs": [
    {
     "name": "stdout",
     "output_type": "stream",
     "text": [
      "Using device: cpu\n"
     ]
    }
   ],
   "source": [
    "# Ejecuta esta celda después de instalar las dependencias en la celda anterior\n",
    "import os\n",
    "import random\n",
    "import json\n",
    "from pathlib import Path\n",
    "\n",
    "import numpy as np\n",
    "import pandas as pd\n",
    "import torch\n",
    "import matplotlib.pyplot as plt\n",
    "import seaborn as sns\n",
    "\n",
    "from sentence_transformers import SentenceTransformer\n",
    "from sklearn.preprocessing import LabelEncoder, StandardScaler\n",
    "from sklearn.decomposition import PCA\n",
    "from sklearn.metrics import accuracy_score, f1_score, classification_report, confusion_matrix\n",
    "from sklearn.neural_network import MLPClassifier\n",
    "\n",
    "import joblib\n",
    "import warnings\n",
    "\n",
    "warnings.filterwarnings(\"ignore\")\n",
    "\n",
    "SEED = 42\n",
    "random.seed(SEED)\n",
    "np.random.seed(SEED)\n",
    "torch.manual_seed(SEED)\n",
    "if torch.cuda.is_available():\n",
    "    torch.cuda.manual_seed_all(SEED)\n",
    "\n",
    "DEVICE = \"cuda\" if torch.cuda.is_available() else \"cpu\"\n",
    "print(f\"Using device: {DEVICE}\")"
   ]
  },
  {
   "cell_type": "markdown",
   "id": "64c48453",
   "metadata": {},
   "source": [
    "## 2. Cargar particiones de `poem_sentiment`\n",
    "Descarga las particiones desde Hugging Face usando las rutas parquet especificadas y confirma sus dimensiones."
   ]
  },
  {
   "cell_type": "code",
   "execution_count": 3,
   "id": "eaa85cf4",
   "metadata": {},
   "outputs": [
    {
     "name": "stdout",
     "output_type": "stream",
     "text": [
      "Train shape: (892, 3)\n",
      "   id                                         verse_text  label\n",
      "0   0  with pale blue berries. in these peaceful shad...      1\n",
      "1   1                it flows so long as falls the rain,      2 \n",
      "\n",
      "Validation shape: (105, 3)\n",
      "   id                                     verse_text  label\n",
      "0   0          to water, cloudlike on the bush afar,      2\n",
      "1   1  shall yet be glad for him, and he shall bless      1 \n",
      "\n",
      "Test shape: (104, 3)\n",
      "   id                                         verse_text  label\n",
      "0   0                      my canoe to make more steady,      2\n",
      "1   1  and be glad in the summer morning when the kin...      1 \n",
      "\n"
     ]
    }
   ],
   "source": [
    "splits = {\n",
    "    \"train\": \"data/train-00000-of-00001.parquet\",\n",
    "    \"validation\": \"data/validation-00000-of-00001.parquet\",\n",
    "    \"test\": \"data/test-00000-of-00001.parquet\",\n",
    "}\n",
    "base_uri = \"hf://datasets/google-research-datasets/poem_sentiment/\"\n",
    "parquet_engine = \"fastparquet\"\n",
    "df_train = pd.read_parquet(base_uri + splits[\"train\"], engine=parquet_engine)\n",
    "df_validation = pd.read_parquet(base_uri + splits[\"validation\"], engine=parquet_engine)\n",
    "df_test = pd.read_parquet(base_uri + splits[\"test\"], engine=parquet_engine)\n",
    "\n",
    "for name, df in {\"train\": df_train, \"validation\": df_validation, \"test\": df_test}.items():\n",
    "    print(f\"{name.title()} shape: {df.shape}\")\n",
    "    print(df.head(2), \"\\n\")"
   ]
  },
  {
   "cell_type": "markdown",
   "id": "c5420dbc",
   "metadata": {},
   "source": [
    "## 3. Preprocesar texto y etiquetas\n",
    "Aplica una limpieza ligera, asegura la consistencia de las etiquetas y genera mapeos descriptivos para interpretabilidad."
   ]
  },
  {
   "cell_type": "code",
   "execution_count": 4,
   "id": "5c56e625",
   "metadata": {},
   "outputs": [
    {
     "name": "stdout",
     "output_type": "stream",
     "text": [
      "Encoded label mapping:\n",
      "  Original 0 → Encoded 0 (negative)\n",
      "  Original 1 → Encoded 1 (positive)\n",
      "  Original 2 → Encoded 2 (no_impact)\n",
      "  Original 3 → Encoded 3 (mixed)\n"
     ]
    }
   ],
   "source": [
    "def clean_text(text: str) -> str:\n",
    "    if not isinstance(text, str):\n",
    "        return \"\"\n",
    "    return \" \".join(text.strip().split())\n",
    "\n",
    "train_texts = df_train[\"verse_text\"].astype(str).apply(clean_text)\n",
    "validation_texts = df_validation[\"verse_text\"].astype(str).apply(clean_text)\n",
    "test_texts = df_test[\"verse_text\"].astype(str).apply(clean_text)\n",
    "\n",
    "label_encoder = LabelEncoder()\n",
    "y_train = label_encoder.fit_transform(df_train[\"label\"])\n",
    "y_validation = label_encoder.transform(df_validation[\"label\"])\n",
    "y_test = label_encoder.transform(df_test[\"label\"])\n",
    "\n",
    "original_to_encoded = {int(orig): int(label_encoder.transform([orig])[0]) for orig in label_encoder.classes_}\n",
    "label_name_map = {\n",
    "    0: \"negative\",\n",
    "    1: \"positive\",\n",
    "    2: \"no_impact\",\n",
    "    3: \"mixed\",\n",
    "}\n",
    "encoded_to_name = {encoded: label_name_map.get(orig, f\"class_{orig}\")\n",
    "                    for orig, encoded in original_to_encoded.items()}\n",
    "\n",
    "print(\"Encoded label mapping:\")\n",
    "for orig, encoded in original_to_encoded.items():\n",
    "    label_name = label_name_map.get(orig, f\"class_{orig}\")\n",
    "    print(f\"  Original {orig} → Encoded {encoded} ({label_name})\")"
   ]
  },
  {
   "cell_type": "markdown",
   "id": "d0b09b1e",
   "metadata": {},
   "source": [
    "### Exploración de distribución de etiquetas\n",
    "Verifica que las etiquetas originales corresponden con los nombres esperados y revisa el desbalance por partición."
   ]
  },
  {
   "cell_type": "code",
   "execution_count": 5,
   "id": "fa1fb265",
   "metadata": {},
   "outputs": [
    {
     "name": "stdout",
     "output_type": "stream",
     "text": [
      "\n",
      "=== TRAIN ===\n"
     ]
    },
    {
     "data": {
      "application/vnd.microsoft.datawrangler.viewer.v0+json": {
       "columns": [
        {
         "name": "index",
         "rawType": "int64",
         "type": "integer"
        },
        {
         "name": "label_original",
         "rawType": "int64",
         "type": "integer"
        },
        {
         "name": "label_name",
         "rawType": "object",
         "type": "string"
        },
        {
         "name": "count",
         "rawType": "int64",
         "type": "integer"
        },
        {
         "name": "encoded_label",
         "rawType": "int64",
         "type": "integer"
        },
        {
         "name": "share_pct",
         "rawType": "float64",
         "type": "float"
        }
       ],
       "ref": "17192efb-3d72-41fc-add2-bba38faa64a2",
       "rows": [
        [
         "0",
         "0",
         "negative",
         "155",
         "0",
         "17.376681614349778"
        ],
        [
         "1",
         "1",
         "positive",
         "133",
         "1",
         "14.91031390134529"
        ],
        [
         "2",
         "2",
         "no_impact",
         "555",
         "2",
         "62.21973094170403"
        ],
        [
         "3",
         "3",
         "mixed",
         "49",
         "3",
         "5.493273542600897"
        ]
       ],
       "shape": {
        "columns": 5,
        "rows": 4
       }
      },
      "text/html": [
       "<div>\n",
       "<style scoped>\n",
       "    .dataframe tbody tr th:only-of-type {\n",
       "        vertical-align: middle;\n",
       "    }\n",
       "\n",
       "    .dataframe tbody tr th {\n",
       "        vertical-align: top;\n",
       "    }\n",
       "\n",
       "    .dataframe thead th {\n",
       "        text-align: right;\n",
       "    }\n",
       "</style>\n",
       "<table border=\"1\" class=\"dataframe\">\n",
       "  <thead>\n",
       "    <tr style=\"text-align: right;\">\n",
       "      <th></th>\n",
       "      <th>label_original</th>\n",
       "      <th>label_name</th>\n",
       "      <th>count</th>\n",
       "      <th>encoded_label</th>\n",
       "      <th>share_pct</th>\n",
       "    </tr>\n",
       "  </thead>\n",
       "  <tbody>\n",
       "    <tr>\n",
       "      <th>0</th>\n",
       "      <td>0</td>\n",
       "      <td>negative</td>\n",
       "      <td>155</td>\n",
       "      <td>0</td>\n",
       "      <td>17.376682</td>\n",
       "    </tr>\n",
       "    <tr>\n",
       "      <th>1</th>\n",
       "      <td>1</td>\n",
       "      <td>positive</td>\n",
       "      <td>133</td>\n",
       "      <td>1</td>\n",
       "      <td>14.910314</td>\n",
       "    </tr>\n",
       "    <tr>\n",
       "      <th>2</th>\n",
       "      <td>2</td>\n",
       "      <td>no_impact</td>\n",
       "      <td>555</td>\n",
       "      <td>2</td>\n",
       "      <td>62.219731</td>\n",
       "    </tr>\n",
       "    <tr>\n",
       "      <th>3</th>\n",
       "      <td>3</td>\n",
       "      <td>mixed</td>\n",
       "      <td>49</td>\n",
       "      <td>3</td>\n",
       "      <td>5.493274</td>\n",
       "    </tr>\n",
       "  </tbody>\n",
       "</table>\n",
       "</div>"
      ],
      "text/plain": [
       "   label_original label_name  count  encoded_label  share_pct\n",
       "0               0   negative    155              0  17.376682\n",
       "1               1   positive    133              1  14.910314\n",
       "2               2  no_impact    555              2  62.219731\n",
       "3               3      mixed     49              3   5.493274"
      ]
     },
     "metadata": {},
     "output_type": "display_data"
    },
    {
     "data": {
      "image/png": "[encoded data removed]",
      "text/plain": [
       "<Figure size 600x400 with 1 Axes>"
      ]
     },
     "metadata": {},
     "output_type": "display_data"
    },
    {
     "name": "stdout",
     "output_type": "stream",
     "text": [
      "\n",
      "=== VALIDATION ===\n"
     ]
    },
    {
     "data": {
      "application/vnd.microsoft.datawrangler.viewer.v0+json": {
       "columns": [
        {
         "name": "index",
         "rawType": "int64",
         "type": "integer"
        },
        {
         "name": "label_original",
         "rawType": "int64",
         "type": "integer"
        },
        {
         "name": "label_name",
         "rawType": "object",
         "type": "string"
        },
        {
         "name": "count",
         "rawType": "int64",
         "type": "integer"
        },
        {
         "name": "encoded_label",
         "rawType": "int64",
         "type": "integer"
        },
        {
         "name": "share_pct",
         "rawType": "float64",
         "type": "float"
        }
       ],
       "ref": "28670773-5c23-4c83-9de3-d2063a4abb4e",
       "rows": [
        [
         "0",
         "0",
         "negative",
         "19",
         "0",
         "18.095238095238095"
        ],
        [
         "1",
         "1",
         "positive",
         "17",
         "1",
         "16.19047619047619"
        ],
        [
         "2",
         "2",
         "no_impact",
         "69",
         "2",
         "65.71428571428571"
        ]
       ],
       "shape": {
        "columns": 5,
        "rows": 3
       }
      },
      "text/html": [
       "<div>\n",
       "<style scoped>\n",
       "    .dataframe tbody tr th:only-of-type {\n",
       "        vertical-align: middle;\n",
       "    }\n",
       "\n",
       "    .dataframe tbody tr th {\n",
       "        vertical-align: top;\n",
       "    }\n",
       "\n",
       "    .dataframe thead th {\n",
       "        text-align: right;\n",
       "    }\n",
       "</style>\n",
       "<table border=\"1\" class=\"dataframe\">\n",
       "  <thead>\n",
       "    <tr style=\"text-align: right;\">\n",
       "      <th></th>\n",
       "      <th>label_original</th>\n",
       "      <th>label_name</th>\n",
       "      <th>count</th>\n",
       "      <th>encoded_label</th>\n",
       "      <th>share_pct</th>\n",
       "    </tr>\n",
       "  </thead>\n",
       "  <tbody>\n",
       "    <tr>\n",
       "      <th>0</th>\n",
       "      <td>0</td>\n",
       "      <td>negative</td>\n",
       "      <td>19</td>\n",
       "      <td>0</td>\n",
       "      <td>18.095238</td>\n",
       "    </tr>\n",
       "    <tr>\n",
       "      <th>1</th>\n",
       "      <td>1</td>\n",
       "      <td>positive</td>\n",
       "      <td>17</td>\n",
       "      <td>1</td>\n",
       "      <td>16.190476</td>\n",
       "    </tr>\n",
       "    <tr>\n",
       "      <th>2</th>\n",
       "      <td>2</td>\n",
       "      <td>no_impact</td>\n",
       "      <td>69</td>\n",
       "      <td>2</td>\n",
       "      <td>65.714286</td>\n",
       "    </tr>\n",
       "  </tbody>\n",
       "</table>\n",
       "</div>"
      ],
      "text/plain": [
       "   label_original label_name  count  encoded_label  share_pct\n",
       "0               0   negative     19              0  18.095238\n",
       "1               1   positive     17              1  16.190476\n",
       "2               2  no_impact     69              2  65.714286"
      ]
     },
     "metadata": {},
     "output_type": "display_data"
    },
    {
     "data": {
      "image/png": "[encoded data removed]",
      "text/plain": [
       "<Figure size 600x400 with 1 Axes>"
      ]
     },
     "metadata": {},
     "output_type": "display_data"
    },
    {
     "name": "stdout",
     "output_type": "stream",
     "text": [
      "\n",
      "=== TEST ===\n"
     ]
    },
    {
     "data": {
      "application/vnd.microsoft.datawrangler.viewer.v0+json": {
       "columns": [
        {
         "name": "index",
         "rawType": "int64",
         "type": "integer"
        },
        {
         "name": "label_original",
         "rawType": "int64",
         "type": "integer"
        },
        {
         "name": "label_name",
         "rawType": "object",
         "type": "string"
        },
        {
         "name": "count",
         "rawType": "int64",
         "type": "integer"
        },
        {
         "name": "encoded_label",
         "rawType": "int64",
         "type": "integer"
        },
        {
         "name": "share_pct",
         "rawType": "float64",
         "type": "float"
        }
       ],
       "ref": "07c00dfe-f843-4535-a946-579be58335c4",
       "rows": [
        [
         "0",
         "0",
         "negative",
         "19",
         "0",
         "18.269230769230766"
        ],
        [
         "1",
         "1",
         "positive",
         "16",
         "1",
         "15.384615384615385"
        ],
        [
         "2",
         "2",
         "no_impact",
         "69",
         "2",
         "66.34615384615384"
        ]
       ],
       "shape": {
        "columns": 5,
        "rows": 3
       }
      },
      "text/html": [
       "<div>\n",
       "<style scoped>\n",
       "    .dataframe tbody tr th:only-of-type {\n",
       "        vertical-align: middle;\n",
       "    }\n",
       "\n",
       "    .dataframe tbody tr th {\n",
       "        vertical-align: top;\n",
       "    }\n",
       "\n",
       "    .dataframe thead th {\n",
       "        text-align: right;\n",
       "    }\n",
       "</style>\n",
       "<table border=\"1\" class=\"dataframe\">\n",
       "  <thead>\n",
       "    <tr style=\"text-align: right;\">\n",
       "      <th></th>\n",
       "      <th>label_original</th>\n",
       "      <th>label_name</th>\n",
       "      <th>count</th>\n",
       "      <th>encoded_label</th>\n",
       "      <th>share_pct</th>\n",
       "    </tr>\n",
       "  </thead>\n",
       "  <tbody>\n",
       "    <tr>\n",
       "      <th>0</th>\n",
       "      <td>0</td>\n",
       "      <td>negative</td>\n",
       "      <td>19</td>\n",
       "      <td>0</td>\n",
       "      <td>18.269231</td>\n",
       "    </tr>\n",
       "    <tr>\n",
       "      <th>1</th>\n",
       "      <td>1</td>\n",
       "      <td>positive</td>\n",
       "      <td>16</td>\n",
       "      <td>1</td>\n",
       "      <td>15.384615</td>\n",
       "    </tr>\n",
       "    <tr>\n",
       "      <th>2</th>\n",
       "      <td>2</td>\n",
       "      <td>no_impact</td>\n",
       "      <td>69</td>\n",
       "      <td>2</td>\n",
       "      <td>66.346154</td>\n",
       "    </tr>\n",
       "  </tbody>\n",
       "</table>\n",
       "</div>"
      ],
      "text/plain": [
       "   label_original label_name  count  encoded_label  share_pct\n",
       "0               0   negative     19              0  18.269231\n",
       "1               1   positive     16              1  15.384615\n",
       "2               2  no_impact     69              2  66.346154"
      ]
     },
     "metadata": {},
     "output_type": "display_data"
    },
    {
     "data": {
      "image/png": "[encoded data removed]",
      "text/plain": [
       "<Figure size 600x400 with 1 Axes>"
      ]
     },
     "metadata": {},
     "output_type": "display_data"
    }
   ],
   "source": [
    "def summarize_labels(df, split_name):\n",
    "    counts = df[\"label\"].value_counts().sort_index()\n",
    "    summary = pd.DataFrame({\n",
    "        \"label_original\": counts.index.astype(int),\n",
    "        \"label_name\": [label_name_map.get(int(lbl), f\"class_{lbl}\") for lbl in counts.index],\n",
    "        \"count\": counts.values,\n",
    "    })\n",
    "    summary[\"encoded_label\"] = label_encoder.transform(summary[\"label_original\"].to_numpy())\n",
    "    summary[\"share_pct\"] = (summary[\"count\"] / summary[\"count\"].sum()) * 100\n",
    "    display(summary)\n",
    "    \n",
    "    plt.figure(figsize=(6, 4))\n",
    "    sns.barplot(data=summary, x=\"label_name\", y=\"count\", palette=\"viridis\")\n",
    "    plt.title(f\"Distribución de etiquetas - {split_name}\")\n",
    "    plt.xlabel(\"Etiqueta\")\n",
    "    plt.ylabel(\"Cantidad\")\n",
    "    plt.tight_layout()\n",
    "    plt.show()\n",
    "\n",
    "for split_name, df_split in [(\"Train\", df_train), (\"Validation\", df_validation), (\"Test\", df_test)]:\n",
    "    print(f\"\\n=== {split_name.upper()} ===\")\n",
    "    summarize_labels(df_split, split_name)"
   ]
  },
  {
   "cell_type": "markdown",
   "id": "3f3453cc",
   "metadata": {},
   "source": [
    "## 4. Generar embeddings con `multilingual_bert`\n",
    "Inicializa el modelo `paraphrase-multilingual-MiniLM-L12-v2` y codifica los textos en lotes para mantener el uso de memoria bajo control."
   ]
  },
  {
   "cell_type": "code",
   "execution_count": null,
   "id": "ccfdeec6",
   "metadata": {},
   "outputs": [
    {
     "name": "stdout",
     "output_type": "stream",
     "text": [
      "Loaded embedder: paraphrase-multilingual-MiniLM-L12-v2\n",
      "Train embeddings shape: (892, 384)\n",
      "Validation embeddings shape: (105, 384)\n",
      "Test embeddings shape: (104, 384)\n",
      "\n"
     ]
    }
   ],
   "source": [
    "def encode_texts(texts, model, batch_size=32):\n",
    "    embeddings = []\n",
    "    for start in range(0, len(texts), batch_size):\n",
    "        batch_texts = texts.iloc[start:start + batch_size].tolist()\n",
    "        batch_embeddings = model.encode(\n",
    "            batch_texts,\n",
    "            batch_size=batch_size,\n",
    "            convert_to_numpy=True,\n",
    "            show_progress_bar=False,\n",
    "            device=DEVICE,\n",
    "        )\n",
    "        embeddings.append(batch_embeddings)\n",
    "    return np.vstack(embeddings)\n",
    "\n",
    "multilingual_model_name = \"paraphrase-multilingual-MiniLM-L12-v2\"\n",
    "multilingual_model = SentenceTransformer(multilingual_model_name, device=DEVICE)\n",
    "print(f\"Loaded embedder: {multilingual_model_name}\")\n",
    "\n",
    "X_train_embeddings = encode_texts(train_texts, multilingual_model, batch_size=32)\n",
    "X_validation_embeddings = encode_texts(validation_texts, multilingual_model, batch_size=32)\n",
    "X_test_embeddings = encode_texts(test_texts, multilingual_model, batch_size=32)\n",
    "\n",
    "print(f\"Train embeddings shape: {X_train_embeddings.shape}\")\n",
    "print(f\"Validation embeddings shape: {X_validation_embeddings.shape}\")\n",
    "print(f\"Test embeddings shape: {X_test_embeddings.shape}\")\n",
    "print(\"\")"
   ]
  },
  {
   "cell_type": "markdown",
   "id": "f30edd64",
   "metadata": {},
   "source": [
    "## 5. Escalar *features* y aplicar PCA opcional\n",
    "Estandariza los embeddings con `StandardScaler` y reduce dimensionalidad con PCA solo si logra conservar al menos 95% de la varianza."
   ]
  },
  {
   "cell_type": "code",
   "execution_count": 9,
   "id": "3f3b87c0",
   "metadata": {},
   "outputs": [
    {
     "name": "stdout",
     "output_type": "stream",
     "text": [
      "PCA applied: reduced to 149 dims (var=0.9509)\n"
     ]
    }
   ],
   "source": [
    "scaler = StandardScaler()\n",
    "X_train_scaled = scaler.fit_transform(X_train_embeddings)\n",
    "X_validation_scaled = scaler.transform(X_validation_embeddings)\n",
    "X_test_scaled = scaler.transform(X_test_embeddings)\n",
    "\n",
    "pca = None\n",
    "pca_variance = 1.0\n",
    "if X_train_scaled.shape[1] > 50:\n",
    "    pca = PCA(n_components=0.95, random_state=SEED)\n",
    "    X_train_ready = pca.fit_transform(X_train_scaled)\n",
    "    X_validation_ready = pca.transform(X_validation_scaled)\n",
    "    X_test_ready = pca.transform(X_test_scaled)\n",
    "    pca_variance = float(pca.explained_variance_ratio_.sum())\n",
    "    print(f\"PCA applied: reduced to {X_train_ready.shape[1]} dims (var={pca_variance:.4f})\")\n",
    "else:\n",
    "    X_train_ready = X_train_scaled\n",
    "    X_validation_ready = X_validation_scaled\n",
    "    X_test_ready = X_test_scaled\n",
    "    print(\"PCA skipped: dimensionality already compact\")"
   ]
  },
  {
   "cell_type": "markdown",
   "id": "64882326",
   "metadata": {},
   "source": [
    "## 6. Entrenar `MLPClassifier` optimizado\n",
    "Ajusta una red `MLPClassifier` profunda con *early stopping* y registra la curva de pérdida para monitorizar convergencia."
   ]
  },
  {
   "cell_type": "code",
   "execution_count": 10,
   "id": "bfcbe65d",
   "metadata": {},
   "outputs": [
    {
     "data": {
      "image/png": "[encoded data removed]",
      "text/plain": [
       "<Figure size 800x400 with 1 Axes>"
      ]
     },
     "metadata": {},
     "output_type": "display_data"
    },
    {
     "name": "stdout",
     "output_type": "stream",
     "text": [
      "Training epochs run: 19\n"
     ]
    }
   ],
   "source": [
    "mlp_clf = MLPClassifier(\n",
    "    early_stopping=True,\n",
    "    hidden_layer_sizes=(512, 256, 128, 64),\n",
    "    learning_rate=\"adaptive\",\n",
    "    max_iter=300,\n",
    "    random_state=SEED,\n",
    "    validation_fraction=0.15,\n",
    ")\n",
    "mlp_clf.fit(X_train_ready, y_train)\n",
    "\n",
    "loss_curve = mlp_clf.loss_curve_\n",
    "plt.figure(figsize=(8, 4))\n",
    "plt.plot(loss_curve, label=\"Training loss\")\n",
    "plt.title(\"MLPClassifier Loss Curve\")\n",
    "plt.xlabel(\"Epoch\")\n",
    "plt.ylabel(\"Loss\")\n",
    "plt.grid(True, alpha=0.3)\n",
    "plt.legend()\n",
    "plt.show()\n",
    "\n",
    "print(f\"Training epochs run: {mlp_clf.n_iter_}\")\n",
    "if hasattr(mlp_clf, \"best_iteration_\") and mlp_clf.best_iteration_ is not None:\n",
    "    print(f\"Best iteration (early stopping): {mlp_clf.best_iteration_}\")"
   ]
  },
  {
   "cell_type": "markdown",
   "id": "e16fabf2",
   "metadata": {},
   "source": [
    "## 7. Evaluar en validación y prueba\n",
    "Obtén métricas clave —accuracy, F1 ponderado, reporte de clasificación y matrices de confusión— para validar el rendimiento del pipeline."
   ]
  },
  {
   "cell_type": "code",
   "execution_count": 11,
   "id": "87fec696",
   "metadata": {},
   "outputs": [
    {
     "name": "stdout",
     "output_type": "stream",
     "text": [
      "=== VALIDATION METRICS ===\n",
      "Accuracy: 0.8381\n",
      "F1-weighted: 0.8308\n",
      "              precision    recall  f1-score   support\n",
      "\n",
      "    negative       0.77      0.89      0.83        19\n",
      "    positive       0.67      0.47      0.55        17\n",
      "   no_impact       0.89      0.91      0.90        69\n",
      "       mixed       0.00      0.00      0.00         0\n",
      "\n",
      "    accuracy                           0.84       105\n",
      "   macro avg       0.58      0.57      0.57       105\n",
      "weighted avg       0.83      0.84      0.83       105\n",
      "\n"
     ]
    },
    {
     "data": {
      "image/png": "[encoded data removed]",
      "text/plain": [
       "<Figure size 500x400 with 2 Axes>"
      ]
     },
     "metadata": {},
     "output_type": "display_data"
    },
    {
     "name": "stdout",
     "output_type": "stream",
     "text": [
      "=== TEST METRICS ===\n",
      "Accuracy: 0.7692\n",
      "F1-weighted: 0.7715\n",
      "              precision    recall  f1-score   support\n",
      "\n",
      "    negative       0.62      0.79      0.70        19\n",
      "    positive       0.67      0.50      0.57        16\n",
      "   no_impact       0.85      0.83      0.84        69\n",
      "       mixed       0.00      0.00      0.00         0\n",
      "\n",
      "    accuracy                           0.77       104\n",
      "   macro avg       0.54      0.53      0.53       104\n",
      "weighted avg       0.78      0.77      0.77       104\n",
      "\n"
     ]
    },
    {
     "data": {
      "image/png": "[encoded data removed]",
      "text/plain": [
       "<Figure size 500x400 with 2 Axes>"
      ]
     },
     "metadata": {},
     "output_type": "display_data"
    }
   ],
   "source": [
    "def evaluate_split(X, y_true, split_name):\n",
    "    labels_order = sorted(encoded_to_name.keys())\n",
    "    y_pred = mlp_clf.predict(X)\n",
    "    accuracy = accuracy_score(y_true, y_pred)\n",
    "    f1_w = f1_score(y_true, y_pred, average=\"weighted\")\n",
    "    report = classification_report(\n",
    "        y_true,\n",
    "        y_pred,\n",
    "        labels=labels_order,\n",
    "        target_names=[encoded_to_name[idx] for idx in labels_order],\n",
    "        zero_division=0,\n",
    "    )\n",
    "    print(f\"=== {split_name.upper()} METRICS ===\")\n",
    "    print(f\"Accuracy: {accuracy:.4f}\")\n",
    "    print(f\"F1-weighted: {f1_w:.4f}\")\n",
    "    print(report)\n",
    "    \n",
    "    cm = confusion_matrix(y_true, y_pred, labels=labels_order)\n",
    "    plt.figure(figsize=(5, 4))\n",
    "    sns.heatmap(cm, annot=True, fmt=\"d\", cmap=\"Blues\",\n",
    "                xticklabels=[encoded_to_name[idx] for idx in labels_order],\n",
    "                yticklabels=[encoded_to_name[idx] for idx in labels_order])\n",
    "    plt.title(f\"Confusion Matrix - {split_name}\")\n",
    "    plt.xlabel(\"Predicted\")\n",
    "    plt.ylabel(\"True\")\n",
    "    plt.tight_layout()\n",
    "    plt.show()\n",
    "    \n",
    "    return {\"accuracy\": accuracy, \"f1_weighted\": f1_w}\n",
    "\n",
    "validation_metrics = evaluate_split(X_validation_ready, y_validation, \"Validation\")\n",
    "test_metrics = evaluate_split(X_test_ready, y_test, \"Test\")"
   ]
  },
  {
   "cell_type": "markdown",
   "id": "ec142bb9",
   "metadata": {},
   "source": [
    "## 8. Guardar artefactos del modelo\n",
    "Persiste los componentes críticos del pipeline (`scaler`, `pca`, MLP y metadatos) para reutilizarlos en inferencia o deployment."
   ]
  },
  {
   "cell_type": "code",
   "execution_count": 12,
   "id": "0598f571",
   "metadata": {},
   "outputs": [
    {
     "name": "stdout",
     "output_type": "stream",
     "text": [
      "Artifacts saved in: D:\\Proyectos_DiplomadoIA\\Sentiment Analysis\\artifacts\\multilingual_mlp\n",
      "Saved files: scaler → scaler.joblib, model → mlp_classifier.joblib, metadata → metadata.json\n",
      "PCA component saved as: pca.joblib\n"
     ]
    }
   ],
   "source": [
    "artifacts_dir = Path(\"artifacts/multilingual_mlp\")\n",
    "artifacts_dir.mkdir(parents=True, exist_ok=True)\n",
    "\n",
    "scaler_path = artifacts_dir / \"scaler.joblib\"\n",
    "model_path = artifacts_dir / \"mlp_classifier.joblib\"\n",
    "pca_path = artifacts_dir / \"pca.joblib\" if pca is not None else None\n",
    "\n",
    "joblib.dump(scaler, scaler_path)\n",
    "joblib.dump(mlp_clf, model_path)\n",
    "if pca_path is not None:\n",
    "    joblib.dump(pca, pca_path)\n",
    "\n",
    "metadata = {\n",
    "    \"embedder\": multilingual_model_name,\n",
    "    \"device\": DEVICE,\n",
    "    \"pca_applied\": bool(pca is not None),\n",
    "    \"pca_variance\": pca_variance,\n",
    "    \"label_mapping_original_to_encoded\": original_to_encoded,\n",
    "    \"encoded_to_name\": encoded_to_name,\n",
    "    \"validation_metrics\": {k: float(v) for k, v in validation_metrics.items()},\n",
    "    \"test_metrics\": {k: float(v) for k, v in test_metrics.items()},\n",
    "}\n",
    "metadata_path = artifacts_dir / \"metadata.json\"\n",
    "with metadata_path.open(\"w\", encoding=\"utf-8\") as f:\n",
    "    json.dump(metadata, f, indent=2)\n",
    "\n",
    "print(f\"Artifacts saved in: {artifacts_dir.resolve()}\")\n",
    "print(f\"Saved files: scaler → {scaler_path.name}, model → {model_path.name}, metadata → {metadata_path.name}\")\n",
    "if pca_path is not None:\n",
    "    print(f\"PCA component saved as: {pca_path.name}\")"
   ]
  }
 ],
 "metadata": {
  "kernelspec": {
   "display_name": "dipEnv",
   "language": "python",
   "name": "python3"
  },
  "language_info": {
   "codemirror_mode": {
    "name": "ipython",
    "version": 3
   },
   "file_extension": ".py",
   "mimetype": "text/x-python",
   "name": "python",
   "nbconvert_exporter": "python",
   "pygments_lexer": "ipython3",
   "version": "3.14.0"
  }
 },
 "nbformat": 4,
 "nbformat_minor": 5
}
