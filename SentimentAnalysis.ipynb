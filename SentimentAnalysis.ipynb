{
 "cells": [
  {
   "cell_type": "code",
   "execution_count": 8,
   "id": "878e93fb",
   "metadata": {},
   "outputs": [
    {
     "name": "stderr",
     "output_type": "stream",
     "text": [
      "[nltk_data] Downloading package punkt to\n",
      "[nltk_data]     C:\\Users\\osorn\\AppData\\Roaming\\nltk_data...\n",
      "[nltk_data]   Package punkt is already up-to-date!\n",
      "[nltk_data] Downloading package stopwords to\n",
      "[nltk_data]     C:\\Users\\osorn\\AppData\\Roaming\\nltk_data...\n",
      "[nltk_data]   Package stopwords is already up-to-date!\n",
      "[nltk_data] Downloading package wordnet to\n",
      "[nltk_data]     C:\\Users\\osorn\\AppData\\Roaming\\nltk_data...\n",
      "[nltk_data]   Package wordnet is already up-to-date!\n"
     ]
    }
   ],
   "source": [
    "# Manipulación y análisis de datos\n",
    "import pandas as pd\n",
    "import numpy as np\n",
    "\n",
    "# Visualización de datos\n",
    "import matplotlib.pyplot as plt\n",
    "import seaborn as sns\n",
    "\n",
    "# Expresiones regulares y procesamiento de strings\n",
    "import re\n",
    "import string\n",
    "\n",
    "# ==== Librerías de NLP ====\n",
    "import nltk\n",
    "from nltk.corpus import stopwords\n",
    "from nltk.tokenize import word_tokenize\n",
    "from nltk.stem import WordNetLemmatizer\n",
    "\n",
    "# ==== Librerías de Machine Learning ====\n",
    "from sklearn.model_selection import train_test_split\n",
    "from sklearn.feature_extraction.text import CountVectorizer, TfidfVectorizer\n",
    "from sklearn.linear_model import LogisticRegression\n",
    "from sklearn.ensemble import RandomForestClassifier\n",
    "from sklearn.svm import LinearSVC\n",
    "from sklearn.utils.class_weight import compute_class_weight\n",
    "from sklearn.naive_bayes import MultinomialNB\n",
    "from sklearn.pipeline import Pipeline\n",
    "from sklearn.metrics import classification_report, confusion_matrix, accuracy_score\n",
    "\n",
    "# Descargar recursos esenciales de NLTK (ejecutar una vez, comentar después de la primera ejecución)\n",
    "nltk.download('punkt')\n",
    "nltk.download('stopwords')\n",
    "nltk.download('wordnet')\n",
    "\n",
    "# Configurar estética de gráficos para mejores visuales\n",
    "plt.style.use('ggplot')\n",
    "sns.set(style='whitegrid')"
   ]
  },
  {
   "cell_type": "markdown",
   "id": "bce168d6",
   "metadata": {},
   "source": [
    "**Cargando el conjunto de datos**"
   ]
  },
  {
   "cell_type": "code",
   "execution_count": 9,
   "id": "07395cee",
   "metadata": {},
   "outputs": [],
   "source": [
    "import pandas as pd\n",
    "\n",
    "# Cargar conjunto de datos desde el repositorio de Hugging Face\n",
    "splits = {'train': 'data/train-00000-of-00001.parquet', 'validation': 'data/validation-00000-of-00001.parquet', 'test': 'data/test-00000-of-00001.parquet'}\n",
    "df_train = pd.read_parquet(\"hf://datasets/google-research-datasets/poem_sentiment/\" + splits[\"train\"])\n",
    "df_validation = pd.read_parquet(\"hf://datasets/google-research-datasets/poem_sentiment/\" + splits[\"validation\"])\n",
    "df_test = pd.read_parquet(\"hf://datasets/google-research-datasets/poem_sentiment/\" + splits[\"test\"])"
   ]
  },
  {
   "cell_type": "code",
   "execution_count": 10,
   "id": "4418078d",
   "metadata": {},
   "outputs": [
    {
     "name": "stdout",
     "output_type": "stream",
     "text": [
      "=== RESUMEN DEL CONJUNTO DE DATOS ===\n",
      "Forma del conjunto de entrenamiento: (892, 3)\n",
      "Forma del conjunto de validación: (105, 3)\n",
      "Forma del conjunto de prueba: (104, 3)\n",
      "\n",
      "=== COLUMNAS ===\n",
      "Columnas: ['id', 'verse_text', 'label']\n",
      "\n",
      "=== PRIMERAS FILAS DEL CONJUNTO DE ENTRENAMIENTO ===\n",
      "   id                                         verse_text  label\n",
      "0   0  with pale blue berries. in these peaceful shad...      1\n",
      "1   1                it flows so long as falls the rain,      2\n",
      "2   2                 and that is why, the lonesome day,      0\n",
      "3   3  when i peruse the conquered fame of heroes, an...      3\n",
      "4   4            of inward strife for truth and liberty.      3\n",
      "\n",
      "=== TIPOS DE DATOS ===\n",
      "id             int32\n",
      "verse_text    object\n",
      "label          int64\n",
      "dtype: object\n",
      "\n",
      "=== VALORES FALTANTES ===\n",
      "id            0\n",
      "verse_text    0\n",
      "label         0\n",
      "dtype: int64\n",
      "\n",
      "=== DISTRIBUCIÓN DE ETIQUETAS ===\n",
      "label\n",
      "2    555\n",
      "0    155\n",
      "1    133\n",
      "3     49\n",
      "Name: count, dtype: int64\n"
     ]
    }
   ],
   "source": [
    "# Explorar la estructura del conjunto de datos\n",
    "print(\"=== RESUMEN DEL CONJUNTO DE DATOS ===\")\n",
    "print(f\"Forma del conjunto de entrenamiento: {df_train.shape}\")\n",
    "print(f\"Forma del conjunto de validación: {df_validation.shape}\")\n",
    "print(f\"Forma del conjunto de prueba: {df_test.shape}\")\n",
    "\n",
    "print(\"\\n=== COLUMNAS ===\")\n",
    "print(\"Columnas:\", df_train.columns.tolist())\n",
    "\n",
    "print(\"\\n=== PRIMERAS FILAS DEL CONJUNTO DE ENTRENAMIENTO ===\")\n",
    "print(df_train.head())\n",
    "\n",
    "print(\"\\n=== TIPOS DE DATOS ===\")\n",
    "print(df_train.dtypes)\n",
    "\n",
    "print(\"\\n=== VALORES FALTANTES ===\")\n",
    "print(df_train.isnull().sum())\n",
    "\n",
    "print(\"\\n=== DISTRIBUCIÓN DE ETIQUETAS ===\")\n",
    "print(df_train['label'].value_counts())"
   ]
  },
  {
   "cell_type": "code",
   "execution_count": 11,
   "id": "3b0963e4",
   "metadata": {},
   "outputs": [
    {
     "name": "stdout",
     "output_type": "stream",
     "text": [
      "=== TEXTOS DE MUESTRA POR ETIQUETA ===\n",
      "\n",
      "--- ETIQUETA 0 (Cantidad: 155) ---\n",
      "1. and that is why, the lonesome day,\n",
      "2. and so on. then a worthless gaud or two,\n",
      "3. sounded o'er earth and sea its blast of war,\n",
      "\n",
      "--- ETIQUETA 1 (Cantidad: 133) ---\n",
      "1. with pale blue berries. in these peaceful shades--\n",
      "2. that has a charmingly bourbon air.\n",
      "3. brightly expressive as the twins of leda,\n",
      "\n",
      "--- ETIQUETA 2 (Cantidad: 555) ---\n",
      "1. it flows so long as falls the rain,\n",
      "2. and very venus of a pipe.\n",
      "3. who the man, who, called a brother.\n",
      "\n",
      "--- ETIQUETA 3 (Cantidad: 49) ---\n",
      "1. when i peruse the conquered fame of heroes, and the victories of mighty generals, i do not envy the generals,\n",
      "2. of inward strife for truth and liberty.\n",
      "3. the red sword sealed their vows!\n",
      "\n",
      "=== ESTADÍSTICAS DE LONGITUD DE TEXTO ===\n",
      "count    892.000000\n",
      "mean      38.337444\n",
      "std       11.535211\n",
      "min        7.000000\n",
      "25%       31.000000\n",
      "50%       38.000000\n",
      "75%       44.000000\n",
      "max      109.000000\n",
      "Name: text_length, dtype: float64\n"
     ]
    },
    {
     "data": {
      "image/png": "[encoded data removed]",
      "text/plain": [
       "<Figure size 1200x400 with 2 Axes>"
      ]
     },
     "metadata": {},
     "output_type": "display_data"
    }
   ],
   "source": [
    "# Examinar textos de muestra para cada etiqueta para entender las categorías de sentimiento\n",
    "print(\"=== TEXTOS DE MUESTRA POR ETIQUETA ===\")\n",
    "for label in sorted(df_train['label'].unique()):\n",
    "    print(f\"\\n--- ETIQUETA {label} (Cantidad: {len(df_train[df_train['label'] == label])}) ---\")\n",
    "    samples = df_train[df_train['label'] == label]['verse_text'].head(3)\n",
    "    for i, text in enumerate(samples, 1):\n",
    "        print(f\"{i}. {text}\")\n",
    "\n",
    "# También revisar la distribución de longitud de los textos\n",
    "print(\"\\n=== ESTADÍSTICAS DE LONGITUD DE TEXTO ===\")\n",
    "df_train['text_length'] = df_train['verse_text'].str.len()\n",
    "print(df_train['text_length'].describe())\n",
    "\n",
    "# Visualizar la distribución de longitud de texto\n",
    "plt.figure(figsize=(12, 4))\n",
    "\n",
    "plt.subplot(1, 2, 1)\n",
    "plt.hist(df_train['text_length'], bins=30, alpha=0.7, edgecolor='black')\n",
    "plt.title('Distribución de Longitudes de Texto')\n",
    "plt.xlabel('Cantidad de Caracteres')\n",
    "plt.ylabel('Frecuencia')\n",
    "\n",
    "plt.subplot(1, 2, 2)\n",
    "df_train.boxplot(column='text_length', by='label', ax=plt.gca())\n",
    "plt.title('Longitud de Texto por Etiqueta')\n",
    "plt.xlabel('Etiqueta')\n",
    "plt.ylabel('Cantidad de Caracteres')\n",
    "plt.suptitle('')\n",
    "\n",
    "plt.tight_layout()\n",
    "plt.show()"
   ]
  },
  {
   "cell_type": "markdown",
   "id": "930fde8e",
   "metadata": {},
   "source": [
    "## 📊 Interpretación de Estadísticas y Gráficas de Longitud de Texto\n",
    "\n",
    "### 📈 **Estadísticas de Longitud de Texto:**\n",
    "Las estadísticas descriptivas nos revelan características importantes del conjunto de datos:\n",
    "\n",
    "- **Promedio (mean)**: ~38 caracteres por verso\n",
    "- **Mediana (50%)**: 38 caracteres - muy similar al promedio, indicando una distribución relativamente simétrica\n",
    "- **Rango**: De 7 a 109 caracteres - gran variabilidad en la longitud de los versos\n",
    "- **Cuartiles**: \n",
    "  - Q1 (25%): 31 caracteres\n",
    "  - Q3 (75%): 44 caracteres\n",
    "  - Rango intercuartílico: 13 caracteres\n",
    "\n",
    "### 📊 **Gráfica 1 - Distribución de Longitudes de Texto:**\n",
    "Esta gráfica de histograma muestra que:\n",
    "\n",
    "- **Distribución casi normal**: La mayoría de versos tienen entre 30-50 caracteres\n",
    "- **Pico central**: Concentración máxima alrededor de los 35-40 caracteres\n",
    "- **Cola derecha**: Algunos versos excepcionalmente largos (hasta 109 caracteres)\n",
    "- **Textos cortos**: Pocos versos muy cortos (menos de 20 caracteres)\n",
    "\n",
    "### 📈 **Gráfica 2 - Longitud de Texto por Etiqueta:**\n",
    "El diagrama de caja (boxplot) revela patrones interesantes por categoría de sentimiento:\n",
    "\n",
    "- **Etiqueta 0 (Melancólico/Negativo)**: Longitud típica, distribución compacta\n",
    "- **Etiqueta 1 (Positivo/Placentero)**: Similar a la etiqueta 0, textos moderados\n",
    "- **Etiqueta 2 (Neutral)**: La más común, longitud estándar con algunos valores atípicos\n",
    "- **Etiqueta 3 (Intenso/Dramático)**: **Textos notablemente más largos** - esto tiene sentido porque los versos dramáticos tienden a ser más descriptivos y elaborados\n",
    "\n",
    "### 🎯 **Implicaciones para el Análisis de Sentimientos:**\n",
    "1. **Consistencia**: La mayoría de textos tienen longitud similar, facilitando el procesamiento\n",
    "2. **Variabilidad por sentimiento**: Los textos dramáticos/intensos son más largos, lo que podría ser una característica distintiva\n",
    "3. **Preprocesamiento**: Necesitaremos considerar esta variabilidad en la longitud al vectorizar los textos"
   ]
  },
  {
   "cell_type": "code",
   "execution_count": 12,
   "id": "f3c7dc63",
   "metadata": {},
   "outputs": [
    {
     "name": "stdout",
     "output_type": "stream",
     "text": [
      "=== ANÁLISIS DETALLADO DE LONGITUD POR ETIQUETA ===\n",
      "\n",
      "--- ETIQUETA 0 (Melancólico/Negativo) ---\n",
      "Promedio: 40.4 caracteres\n",
      "Mediana: 41.0 caracteres\n",
      "Desviación estándar: 10.1\n",
      "Rango: 18 - 78 caracteres\n",
      "Muestras: 155\n",
      "\n",
      "--- ETIQUETA 1 (Positivo/Placentero) ---\n",
      "Promedio: 38.0 caracteres\n",
      "Mediana: 38.0 caracteres\n",
      "Desviación estándar: 9.8\n",
      "Rango: 11 - 76 caracteres\n",
      "Muestras: 133\n",
      "\n",
      "--- ETIQUETA 2 (Neutral) ---\n",
      "Promedio: 36.6 caracteres\n",
      "Mediana: 37.0 caracteres\n",
      "Desviación estándar: 10.7\n",
      "Rango: 7 - 72 caracteres\n",
      "Muestras: 555\n",
      "\n",
      "--- ETIQUETA 3 (Intenso/Dramático) ---\n",
      "Promedio: 51.8 caracteres\n",
      "Mediana: 46.0 caracteres\n",
      "Desviación estándar: 18.1\n",
      "Rango: 28 - 109 caracteres\n",
      "Muestras: 49\n",
      "\n"
     ]
    },
    {
     "data": {
      "image/png": "[encoded data removed]",
      "text/plain": [
       "<Figure size 1400x600 with 2 Axes>"
      ]
     },
     "metadata": {},
     "output_type": "display_data"
    },
    {
     "name": "stdout",
     "output_type": "stream",
     "text": [
      "=== ANÁLISIS DE DESBALANCE DE CLASES ===\n",
      "Etiqueta 0: 155 muestras (17.4%)\n",
      "Etiqueta 1: 133 muestras (14.9%)\n",
      "Etiqueta 2: 555 muestras (62.2%)\n",
      "Etiqueta 3: 49 muestras (5.5%)\n",
      "\n",
      "Ratio de desbalance (clase más común / clase menos común): 11.3:1\n"
     ]
    }
   ],
   "source": [
    "# Análisis estadístico más detallado por etiqueta\n",
    "print(\"=== ANÁLISIS DETALLADO DE LONGITUD POR ETIQUETA ===\\n\")\n",
    "\n",
    "for label in sorted(df_train['label'].unique()):\n",
    "    subset = df_train[df_train['label'] == label]['text_length']\n",
    "    \n",
    "    # Mapeo de etiquetas a nombres descriptivos\n",
    "    label_names = {\n",
    "        0: \"Melancólico/Negativo\",\n",
    "        1: \"Positivo/Placentero\", \n",
    "        2: \"Neutral\",\n",
    "        3: \"Intenso/Dramático\"\n",
    "    }\n",
    "    \n",
    "    print(f\"--- ETIQUETA {label} ({label_names[label]}) ---\")\n",
    "    print(f\"Promedio: {subset.mean():.1f} caracteres\")\n",
    "    print(f\"Mediana: {subset.median():.1f} caracteres\")\n",
    "    print(f\"Desviación estándar: {subset.std():.1f}\")\n",
    "    print(f\"Rango: {subset.min()} - {subset.max()} caracteres\")\n",
    "    print(f\"Muestras: {len(subset)}\")\n",
    "    print()\n",
    "\n",
    "# Crear una visualización adicional para comparar distribuciones\n",
    "plt.figure(figsize=(14, 6))\n",
    "\n",
    "# Gráfico de violín para mostrar distribuciones completas\n",
    "plt.subplot(1, 2, 1)\n",
    "df_train.boxplot(column='text_length', by='label', ax=plt.gca())\n",
    "plt.title('Distribución de Longitud por Etiqueta\\n(Diagrama de Caja)')\n",
    "plt.xlabel('Etiqueta de Sentimiento')\n",
    "plt.ylabel('Longitud en Caracteres')\n",
    "plt.suptitle('')\n",
    "\n",
    "# Histograma superpuesto por etiquetas\n",
    "plt.subplot(1, 2, 2)\n",
    "colors = ['red', 'green', 'blue', 'purple']\n",
    "labels = ['Melancólico', 'Positivo', 'Neutral', 'Dramático']\n",
    "\n",
    "for i, (label, color, name) in enumerate(zip(sorted(df_train['label'].unique()), colors, labels)):\n",
    "    subset = df_train[df_train['label'] == label]['text_length']\n",
    "    plt.hist(subset, bins=20, alpha=0.6, color=color, label=f'{label}: {name}')\n",
    "\n",
    "plt.title('Distribuciones Superpuestas por Sentimiento')\n",
    "plt.xlabel('Longitud en Caracteres')\n",
    "plt.ylabel('Frecuencia')\n",
    "plt.legend()\n",
    "\n",
    "plt.tight_layout()\n",
    "plt.show()\n",
    "\n",
    "# Estadísticas de desbalance de clases\n",
    "print(\"=== ANÁLISIS DE DESBALANCE DE CLASES ===\")\n",
    "class_counts = df_train['label'].value_counts().sort_index()\n",
    "total_samples = len(df_train)\n",
    "\n",
    "for label in class_counts.index:\n",
    "    percentage = (class_counts[label] / total_samples) * 100\n",
    "    print(f\"Etiqueta {label}: {class_counts[label]} muestras ({percentage:.1f}%)\")\n",
    "\n",
    "print(f\"\\nRatio de desbalance (clase más común / clase menos común): {class_counts.max() / class_counts.min():.1f}:1\")"
   ]
  },
  {
   "cell_type": "markdown",
   "id": "03bf8a44",
   "metadata": {},
   "source": [
    "**Descripción de las columnas del conjunto de datos:**\n",
    "\n",
    "- **id**: Índice del ejemplo\n",
    "- **verse_text**: El texto del verso del poema\n",
    "- **label**: La etiqueta de sentimiento\n",
    "\n",
    "**Mapeo de etiquetas:**\n",
    "- 0 = negativo\n",
    "- 1 = positivo\n",
    "- 2 = sin impacto (neutral)\n",
    "- 3 = mixto (tanto negativo como positivo)\n",
    "\n",
    "**Nota**: El conjunto de datos original usa diferentes índices de etiquetas (negativo = -1, sin impacto = 0, positivo = 1)"
   ]
  },
  {
   "cell_type": "code",
   "execution_count": null,
   "id": "aee6fba8",
   "metadata": {},
   "outputs": [
    {
     "name": "stdout",
     "output_type": "stream",
     "text": [
      "Training data shape: (892, 4)\n",
      "Test data shape: (104, 3)\n",
      "Validation data shape: (105, 3)\n",
      "\n",
      "First 5 rows of training data:\n"
     ]
    },
    {
     "data": {
      "application/vnd.microsoft.datawrangler.viewer.v0+json": {
       "columns": [
        {
         "name": "index",
         "rawType": "int64",
         "type": "integer"
        },
        {
         "name": "id",
         "rawType": "int32",
         "type": "integer"
        },
        {
         "name": "verse_text",
         "rawType": "object",
         "type": "string"
        },
        {
         "name": "label",
         "rawType": "int64",
         "type": "integer"
        },
        {
         "name": "text_length",
         "rawType": "int64",
         "type": "integer"
        }
       ],
       "ref": "6b7bdfa8-4c42-4530-97fa-a0a9566b32d3",
       "rows": [
        [
         "0",
         "0",
         "with pale blue berries. in these peaceful shades--",
         "1",
         "50"
        ],
        [
         "1",
         "1",
         "it flows so long as falls the rain,",
         "2",
         "35"
        ],
        [
         "2",
         "2",
         "and that is why, the lonesome day,",
         "0",
         "34"
        ],
        [
         "3",
         "3",
         "when i peruse the conquered fame of heroes, and the victories of mighty generals, i do not envy the generals,",
         "3",
         "109"
        ],
        [
         "4",
         "4",
         "of inward strife for truth and liberty.",
         "3",
         "39"
        ],
        [
         "5",
         "5",
         "the red sword sealed their vows!",
         "3",
         "32"
        ],
        [
         "6",
         "6",
         "and very venus of a pipe.",
         "2",
         "25"
        ],
        [
         "7",
         "7",
         "who the man, who, called a brother.",
         "2",
         "35"
        ],
        [
         "8",
         "8",
         "and so on. then a worthless gaud or two,",
         "0",
         "40"
        ],
        [
         "9",
         "9",
         "to hide the orb of truth--and every throne",
         "2",
         "42"
        ]
       ],
       "shape": {
        "columns": 4,
        "rows": 10
       }
      },
      "text/html": [
       "<div>\n",
       "<style scoped>\n",
       "    .dataframe tbody tr th:only-of-type {\n",
       "        vertical-align: middle;\n",
       "    }\n",
       "\n",
       "    .dataframe tbody tr th {\n",
       "        vertical-align: top;\n",
       "    }\n",
       "\n",
       "    .dataframe thead th {\n",
       "        text-align: right;\n",
       "    }\n",
       "</style>\n",
       "<table border=\"1\" class=\"dataframe\">\n",
       "  <thead>\n",
       "    <tr style=\"text-align: right;\">\n",
       "      <th></th>\n",
       "      <th>id</th>\n",
       "      <th>verse_text</th>\n",
       "      <th>label</th>\n",
       "      <th>text_length</th>\n",
       "    </tr>\n",
       "  </thead>\n",
       "  <tbody>\n",
       "    <tr>\n",
       "      <th>0</th>\n",
       "      <td>0</td>\n",
       "      <td>with pale blue berries. in these peaceful shad...</td>\n",
       "      <td>1</td>\n",
       "      <td>50</td>\n",
       "    </tr>\n",
       "    <tr>\n",
       "      <th>1</th>\n",
       "      <td>1</td>\n",
       "      <td>it flows so long as falls the rain,</td>\n",
       "      <td>2</td>\n",
       "      <td>35</td>\n",
       "    </tr>\n",
       "    <tr>\n",
       "      <th>2</th>\n",
       "      <td>2</td>\n",
       "      <td>and that is why, the lonesome day,</td>\n",
       "      <td>0</td>\n",
       "      <td>34</td>\n",
       "    </tr>\n",
       "    <tr>\n",
       "      <th>3</th>\n",
       "      <td>3</td>\n",
       "      <td>when i peruse the conquered fame of heroes, an...</td>\n",
       "      <td>3</td>\n",
       "      <td>109</td>\n",
       "    </tr>\n",
       "    <tr>\n",
       "      <th>4</th>\n",
       "      <td>4</td>\n",
       "      <td>of inward strife for truth and liberty.</td>\n",
       "      <td>3</td>\n",
       "      <td>39</td>\n",
       "    </tr>\n",
       "    <tr>\n",
       "      <th>5</th>\n",
       "      <td>5</td>\n",
       "      <td>the red sword sealed their vows!</td>\n",
       "      <td>3</td>\n",
       "      <td>32</td>\n",
       "    </tr>\n",
       "    <tr>\n",
       "      <th>6</th>\n",
       "      <td>6</td>\n",
       "      <td>and very venus of a pipe.</td>\n",
       "      <td>2</td>\n",
       "      <td>25</td>\n",
       "    </tr>\n",
       "    <tr>\n",
       "      <th>7</th>\n",
       "      <td>7</td>\n",
       "      <td>who the man, who, called a brother.</td>\n",
       "      <td>2</td>\n",
       "      <td>35</td>\n",
       "    </tr>\n",
       "    <tr>\n",
       "      <th>8</th>\n",
       "      <td>8</td>\n",
       "      <td>and so on. then a worthless gaud or two,</td>\n",
       "      <td>0</td>\n",
       "      <td>40</td>\n",
       "    </tr>\n",
       "    <tr>\n",
       "      <th>9</th>\n",
       "      <td>9</td>\n",
       "      <td>to hide the orb of truth--and every throne</td>\n",
       "      <td>2</td>\n",
       "      <td>42</td>\n",
       "    </tr>\n",
       "  </tbody>\n",
       "</table>\n",
       "</div>"
      ],
      "text/plain": [
       "   id                                         verse_text  label  text_length\n",
       "0   0  with pale blue berries. in these peaceful shad...      1           50\n",
       "1   1                it flows so long as falls the rain,      2           35\n",
       "2   2                 and that is why, the lonesome day,      0           34\n",
       "3   3  when i peruse the conquered fame of heroes, an...      3          109\n",
       "4   4            of inward strife for truth and liberty.      3           39\n",
       "5   5                   the red sword sealed their vows!      3           32\n",
       "6   6                          and very venus of a pipe.      2           25\n",
       "7   7                who the man, who, called a brother.      2           35\n",
       "8   8           and so on. then a worthless gaud or two,      0           40\n",
       "9   9         to hide the orb of truth--and every throne      2           42"
      ]
     },
     "metadata": {},
     "output_type": "display_data"
    }
   ],
   "source": [
    "# Mostrar información básica\n",
    "print(\"Forma de los datos de entrenamiento:\", df_train.shape)\n",
    "print(\"Forma de los datos de prueba:\", df_test.shape)\n",
    "print(\"Forma de los datos de validación:\", df_validation.shape)\n",
    "\n",
    "# Vista previa de las primeras filas de los datos de entrenamiento\n",
    "print(\"\\nPrimeras 10 filas de los datos de entrenamiento:\")\n",
    "display(df_train.head(10))"
   ]
  },
  {
   "cell_type": "code",
   "execution_count": null,
   "id": "18496cbb",
   "metadata": {},
   "outputs": [
    {
     "name": "stdout",
     "output_type": "stream",
     "text": [
      "\n",
      "Missing values in training data:\n",
      "id             0\n",
      "verse_text     0\n",
      "label          0\n",
      "text_length    0\n",
      "dtype: int64\n",
      "\n",
      "Missing values in validation data:\n",
      "id            0\n",
      "verse_text    0\n",
      "label         0\n",
      "dtype: int64\n",
      "\n",
      "Missing values in test data:\n",
      "id            0\n",
      "verse_text    0\n",
      "label         0\n",
      "dtype: int64\n"
     ]
    }
   ],
   "source": [
    "# Verificar valores faltantes\n",
    "print(\"\\nValores faltantes en datos de entrenamiento:\")\n",
    "print(df_train.isnull().sum())\n",
    "\n",
    "\n",
    "print(\"\\nValores faltantes en datos de validación:\")\n",
    "print(df_validation.isnull().sum())\n",
    "\n",
    "print(\"\\nValores faltantes en datos de prueba:\")\n",
    "print(df_test.isnull().sum())"
   ]
  },
  {
   "cell_type": "code",
   "execution_count": null,
   "id": "1d94a0d9",
   "metadata": {},
   "outputs": [
    {
     "data": {
      "application/vnd.microsoft.datawrangler.viewer.v0+json": {
       "columns": [
        {
         "name": "sentiment",
         "rawType": "object",
         "type": "string"
        },
        {
         "name": "count",
         "rawType": "int64",
         "type": "integer"
        }
       ],
       "ref": "d74087d6-b179-4c25-a6b9-1080032e1942",
       "rows": [
        [
         "no impact",
         "555"
        ],
        [
         "negative",
         "155"
        ],
        [
         "positive",
         "133"
        ],
        [
         "mixed",
         "49"
        ]
       ],
       "shape": {
        "columns": 1,
        "rows": 4
       }
      },
      "text/plain": [
       "sentiment\n",
       "no impact    555\n",
       "negative     155\n",
       "positive     133\n",
       "mixed         49\n",
       "Name: count, dtype: int64"
      ]
     },
     "execution_count": 15,
     "metadata": {},
     "output_type": "execute_result"
    }
   ],
   "source": [
    "#Sentiment distribution in training data\n",
    "\n",
    "sentimientos={\n",
    "    0: 'negative',\n",
    "    1: 'positive',\n",
    "    2: 'no impact',\n",
    "    3: 'mixed'\n",
    "}\n",
    "\n",
    "df_train['sentiment']=df_train['label'].map(sentimientos)\n",
    "df_test['sentiment']=df_test['label'].map(sentimientos)\n",
    "df_validation['sentiment']=df_validation['label'].map(sentimientos)\n",
    "df_train['sentiment'].value_counts()\n"
   ]
  },
  {
   "cell_type": "code",
   "execution_count": 16,
   "id": "20e8e787",
   "metadata": {},
   "outputs": [
    {
     "data": {
      "image/png": "[encoded data removed]",
      "text/plain": [
       "<Figure size 800x600 with 1 Axes>"
      ]
     },
     "metadata": {},
     "output_type": "display_data"
    }
   ],
   "source": [
    "import matplotlib.pyplot as plt\n",
    "import seaborn as sns\n",
    "#Visualize sentiment distribution\n",
    "\n",
    "plt.figure(figsize=(8, 6))\n",
    "sns.countplot(data=df_train, x='sentiment')\n",
    "plt.title('Sentiment Distribution in Training Data')\n",
    "plt.xlabel('Sentiment')\n",
    "plt.ylabel('Count')\n",
    "plt.show()"
   ]
  },
  {
   "cell_type": "code",
   "execution_count": 19,
   "id": "f1d23c3d",
   "metadata": {},
   "outputs": [
    {
     "name": "stderr",
     "output_type": "stream",
     "text": [
      "[nltk_data] Downloading package punkt_tab to\n",
      "[nltk_data]     C:\\Users\\osorn\\AppData\\Roaming\\nltk_data...\n",
      "[nltk_data]   Unzipping tokenizers\\punkt_tab.zip.\n"
     ]
    },
    {
     "data": {
      "text/plain": [
       "True"
      ]
     },
     "execution_count": 19,
     "metadata": {},
     "output_type": "execute_result"
    }
   ],
   "source": [
    "nltk.download('punkt_tab')"
   ]
  },
  {
   "cell_type": "code",
   "execution_count": 21,
   "id": "278e827e",
   "metadata": {},
   "outputs": [],
   "source": [
    "# Clean and preprocess text before modeling to remove noise and standardize the input.\n",
    "# This pipeline covers: lowercasing, removing URLs, HTML, mentions, hashtags, punctuation, numbers, and extra whitespace.\n",
    "# Tokenization, stopword removal, and lemmatization are also included for robust NLP.\n",
    "\n",
    "def clean_text(text):\n",
    "    \"\"\"\n",
    "    Clean and preprocess text data.\n",
    "\n",
    "    Args:\n",
    "        text (str): Input text\n",
    "\n",
    "    Returns:\n",
    "        str: Cleaned text\n",
    "    \"\"\"\n",
    "    if pd.isna(text):\n",
    "        return \"\"\n",
    "\n",
    "    # Convert to lowercase\n",
    "    text = text.lower()\n",
    "\n",
    "    # Remove URLs\n",
    "    text = re.sub(r'https?://\\S+|www\\.\\S+', '', text)\n",
    "\n",
    "    # Remove HTML tags\n",
    "    text = re.sub(r'<.*?>', '', text)\n",
    "\n",
    "    # Remove user mentions\n",
    "    text = re.sub(r'@\\w+', '', text)\n",
    "\n",
    "    # Remove hashtags (keeping the text after #)\n",
    "    text = re.sub(r'#(\\w+)', r'\\1', text)\n",
    "\n",
    "    # Remove punctuation\n",
    "    text = text.translate(str.maketrans('', '', string.punctuation))\n",
    "\n",
    "    # Remove numbers\n",
    "    text = re.sub(r'\\d+', '', text)\n",
    "\n",
    "    # Remove extra whitespace\n",
    "    text = re.sub(r'\\s+', ' ', text).strip()\n",
    "\n",
    "    return text\n",
    "\n",
    "def preprocess_text(text):\n",
    "    \"\"\"\n",
    "    Full preprocessing pipeline: clean, tokenize, remove stopwords, and lemmatize.\n",
    "\n",
    "    Args:\n",
    "        text (str): Input text\n",
    "\n",
    "    Returns:\n",
    "        str: Preprocessed text\n",
    "    \"\"\"\n",
    "    if pd.isna(text):\n",
    "        return \"\"\n",
    "\n",
    "    # Clean text\n",
    "    text = clean_text(text)\n",
    "\n",
    "    # Tokenize\n",
    "    tokens = word_tokenize(text)\n",
    "\n",
    "    # Remove stopwords\n",
    "    stop_words = set(stopwords.words('english'))\n",
    "    tokens = [token for token in tokens if token not in stop_words]\n",
    "\n",
    "    # Lemmatize\n",
    "    lemmatizer = WordNetLemmatizer()\n",
    "    tokens = [lemmatizer.lemmatize(token) for token in tokens]\n",
    "\n",
    "    # Join tokens back into text\n",
    "    processed_text = ' '.join(tokens)\n",
    "\n",
    "    return processed_text"
   ]
  },
  {
   "cell_type": "code",
   "execution_count": 22,
   "id": "3fd9a725",
   "metadata": {},
   "outputs": [
    {
     "name": "stdout",
     "output_type": "stream",
     "text": [
      "{'we', 'itself', 'do', 'here', 'been', \"i've\", \"doesn't\", 'll', \"that'll\", 'our', 'they', 'those', 'about', 'below', 'during', 'their', 'i', \"mustn't\", 'a', 'same', 'for', 'then', 'off', 's', 'o', 'me', \"he's\", 'theirs', 'y', 'so', \"they're\", 'yourself', \"you've\", 'of', 'once', 'above', 'when', \"i'll\", 'ma', \"isn't\", 'if', 'have', \"she's\", \"they've\", 'through', \"shan't\", \"you'll\", 'in', 'where', 'both', 'his', 'or', 'it', \"she'd\", \"hasn't\", 'not', \"i'm\", 'which', 'over', 'isn', 'her', 'under', 'while', 'because', \"couldn't\", 'but', 'each', 'from', 'weren', 'your', 'until', 'd', 'at', 'be', \"it'd\", 'ourselves', 'yourselves', 'my', 'out', \"we've\", 'will', \"we're\", 'she', 'other', 'now', \"wasn't\", 'this', 'needn', \"she'll\", 'doesn', 'shouldn', 'yours', 'why', 'had', 'them', 'its', \"didn't\", 'is', 'haven', \"shouldn't\", 't', 'that', 'can', 'shan', 'few', 'having', 'didn', 'further', 'again', 'some', 'to', 'was', \"weren't\", \"won't\", 'am', 'how', \"they'd\", 'after', 'all', 'on', 'couldn', 'nor', 'any', 'up', 'has', 'him', \"he'll\", \"should've\", 'aren', 'by', 'down', 'doing', 'mustn', 'hadn', 've', 'very', 'were', \"we'll\", \"hadn't\", 'own', 'between', 'are', \"don't\", 'than', 'wouldn', 'did', \"haven't\", 'won', 'and', \"needn't\", \"mightn't\", 'most', 'too', 'hasn', 'these', 'myself', 'themselves', 'don', 'only', 'being', 'no', 'should', 're', 'the', 'he', \"i'd\", 'such', 'wasn', 'himself', 'herself', 'there', 'you', \"he'd\", \"you're\", 'who', 'ain', 'with', 'as', 'into', \"you'd\", \"it'll\", \"aren't\", 'mightn', 'what', \"wouldn't\", \"they'll\", 'an', 'm', 'more', 'hers', \"we'd\", 'does', 'whom', 'ours', 'just', \"it's\", 'against', 'before'}\n"
     ]
    }
   ],
   "source": [
    "stop_words = set(stopwords.words('english'))\n",
    "print(stop_words)"
   ]
  },
  {
   "cell_type": "code",
   "execution_count": 23,
   "id": "b2ec1cac",
   "metadata": {},
   "outputs": [
    {
     "name": "stdout",
     "output_type": "stream",
     "text": [
      "Original Text: with pale blue berries. in these peaceful shades--\n",
      "Processed Text: pale blue berry peaceful shade\n",
      "Original Text: it flows so long as falls the rain,\n",
      "Processed Text: flow long fall rain\n",
      "Original Text: and that is why, the lonesome day,\n",
      "Processed Text: lonesome day\n"
     ]
    }
   ],
   "source": [
    "df_train['processed_text'] = df_train['verse_text'].apply(preprocess_text)\n",
    "df_validation['processed_text'] = df_validation['verse_text'].apply(preprocess_text)\n",
    "df_test['processed_text'] = df_test['verse_text'].apply(preprocess_text)\n",
    "\n",
    "for i in range(3):\n",
    "  print(f\"Original Text: {df_train['verse_text'][i]}\")\n",
    "  print(f\"Processed Text: {df_train['processed_text'][i]}\")"
   ]
  },
  {
   "cell_type": "code",
   "execution_count": 24,
   "id": "c045e774",
   "metadata": {},
   "outputs": [],
   "source": [
    "df_test=df_test.dropna(subset=['verse_text'])"
   ]
  },
  {
   "cell_type": "code",
   "execution_count": 25,
   "id": "b042d67c",
   "metadata": {},
   "outputs": [],
   "source": [
    "CountVect=CountVectorizer(max_features=10000)\n",
    "X_train_cv=CountVect.fit_transform(df_train['processed_text'])\n",
    "\n",
    "#Oversampling\n",
    "'''\n",
    "from imblearn.over_sampling import RandomOverSampler\n",
    "ros=RandomOverSampler(random_state=42)\n",
    "X_train_cv_resam,y_train_resam=ros.fit_resample(X_train_cv,df_train['label'])\n",
    "\n",
    "'''\n",
    "X_test_cv=CountVect.transform(df_test['processed_text'])\n",
    "X_val_cv=CountVect.transform(df_validation['processed_text'])\n",
    "y_train=df_train['label']\n",
    "y_test=df_test['label']\n",
    "y_val=df_validation['label']\n",
    "\n"
   ]
  },
  {
   "cell_type": "code",
   "execution_count": 26,
   "id": "0e76ed9e",
   "metadata": {},
   "outputs": [
    {
     "name": "stdout",
     "output_type": "stream",
     "text": [
      "Prediccion:  [2 2 2 2 2 0 2 2 2 2 1 2 2 2 2 2 2 2 2 2 2 2 2 2 2 2 2 2 2 2 2 2 2 2 2 2 2\n",
      " 2 2 2 2 2 2 2 2 2 2 2 2 0 2 2 2 2 2 2 2 2 2 2 2 2 2 2 2 2 2 2 0 2 2 2 2 2\n",
      " 2 2 2 2 2 2 0 2 2 2 0 2 2 2 2 2 2 2 2 2 2 2 2 2 2 2 2 2 2 2]\n",
      "Real:  0      2\n",
      "1      1\n",
      "2      2\n",
      "3      2\n",
      "4      2\n",
      "      ..\n",
      "99     2\n",
      "100    2\n",
      "101    2\n",
      "102    2\n",
      "103    2\n",
      "Name: label, Length: 104, dtype: int64\n"
     ]
    }
   ],
   "source": [
    "model=MultinomialNB()\n",
    "model.fit(X_train_cv,y_train)\n",
    "y_pred=model.predict(X_test_cv)\n",
    "print(\"Prediccion: \",y_pred)\n",
    "print(\"Real: \", y_test)"
   ]
  },
  {
   "cell_type": "code",
   "execution_count": 27,
   "id": "135dd551",
   "metadata": {},
   "outputs": [
    {
     "name": "stdout",
     "output_type": "stream",
     "text": [
      " Accuracy train: 0.9720\n",
      " Accuracy val: 0.6667\n",
      " Accuracy test: 0.7212\n",
      "\n",
      "Classification Report:\n",
      "              precision    recall  f1-score   support\n",
      "\n",
      "           0       1.00      0.26      0.42        19\n",
      "           1       1.00      0.06      0.12        16\n",
      "           2       0.70      1.00      0.83        69\n",
      "\n",
      "    accuracy                           0.72       104\n",
      "   macro avg       0.90      0.44      0.45       104\n",
      "weighted avg       0.80      0.72      0.64       104\n",
      "\n"
     ]
    },
    {
     "data": {
      "image/png": "[encoded data removed]",
      "text/plain": [
       "<Figure size 800x600 with 2 Axes>"
      ]
     },
     "metadata": {},
     "output_type": "display_data"
    }
   ],
   "source": [
    "#   Evaluate the mode\n",
    "accuracy_train = accuracy_score(y_train, model.predict(X_train_cv))\n",
    "accuracy_val=accuracy_score(y_val,model.predict(X_val_cv))\n",
    "accuracy_test = accuracy_score(y_test, y_pred)\n",
    "print(f\" Accuracy train: {accuracy_train:.4f}\")\n",
    "print(f\" Accuracy val: {accuracy_val:.4f}\")\n",
    "print(f\" Accuracy test: {accuracy_test:.4f}\")\n",
    "\n",
    "  # Generate classification report\n",
    "print(\"\\nClassification Report:\")\n",
    "print(classification_report(y_test, y_pred))\n",
    "\n",
    "    # Generate confusion matrix\n",
    "cm = confusion_matrix(y_test, y_pred)\n",
    "plt.figure(figsize=(8, 6))\n",
    "sns.heatmap(cm, annot=True, fmt='d', cmap='Blues',\n",
    "                xticklabels=['Negative', 'Positive', 'Neutral'],\n",
    "                yticklabels=['Negative', 'Positive', 'Neutral'])\n",
    "plt.xlabel('Predicted')\n",
    "plt.ylabel('Actual')\n",
    "plt.title(f'Confusion Matrix ')\n",
    "plt.show()"
   ]
  },
  {
   "cell_type": "code",
   "execution_count": null,
   "id": "0a3c7e4c",
   "metadata": {},
   "outputs": [
    {
     "ename": "NameError",
     "evalue": "name 'Metrics' is not defined",
     "output_type": "error",
     "traceback": [
      "\u001b[1;31m---------------------------------------------------------------------------\u001b[0m",
      "\u001b[1;31mNameError\u001b[0m                                 Traceback (most recent call last)",
      "Cell \u001b[1;32mIn[28], line 1\u001b[0m\n\u001b[1;32m----> 1\u001b[0m \u001b[43mMetrics\u001b[49m\n\u001b[0;32m      3\u001b[0m \u001b[38;5;66;03m#Confusion matrix\u001b[39;00m\n\u001b[0;32m      4\u001b[0m \u001b[38;5;28mprint\u001b[39m(\u001b[38;5;124m\"\u001b[39m\u001b[38;5;124mConfusion Matrix:\u001b[39m\u001b[38;5;124m\"\u001b[39m)\n",
      "\u001b[1;31mNameError\u001b[0m: name 'Metrics' is not defined"
     ]
    }
   ],
   "source": [
    "#Metrics\n",
    "\n",
    "#Confusion matrix\n",
    "print(\"Confusion Matrix:\")\n",
    "print(confusion_matrix(y_test, y_pred))\n",
    "\n",
    "#Classification report\n",
    "print(\"\\nClassification Report:\")\n",
    "print(classification_report(y_test, y_pred))"
   ]
  }
 ],
 "metadata": {
  "kernelspec": {
   "display_name": "CursoIAyDLdesdeCero",
   "language": "python",
   "name": "python3"
  },
  "language_info": {
   "codemirror_mode": {
    "name": "ipython",
    "version": 3
   },
   "file_extension": ".py",
   "mimetype": "text/x-python",
   "name": "python",
   "nbconvert_exporter": "python",
   "pygments_lexer": "ipython3",
   "version": "3.8.20"
  }
 },
 "nbformat": 4,
 "nbformat_minor": 5
}
