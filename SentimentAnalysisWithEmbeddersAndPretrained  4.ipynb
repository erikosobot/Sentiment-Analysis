{
 "cells": [
  {
   "cell_type": "markdown",
   "id": "6c7e2e21",
   "metadata": {},
   "source": [
    "# Sentiment Analysis with Multilingual BERT Embeddings\n",
    "Este notebook construye un pipeline reproducible que usa `paraphrase-multilingual-MiniLM-L12-v2` para generar embeddings y entrenar un `MLPClassifier` optimizado sobre el dataset `poem_sentiment`."
   ]
  },
  {
   "cell_type": "markdown",
   "id": "5a530f55",
   "metadata": {},
   "source": [
    "## 1. Configurar dependencias y entorno\n",
    "Instala las dependencias clave, importa librerías de análisis y fija la semilla para reproducibilidad."
   ]
  },
  {
   "cell_type": "code",
   "execution_count": 1,
   "id": "d946f0fc",
   "metadata": {},
   "outputs": [],
   "source": [
    "# Instala las dependencias esenciales (ejecuta esta celda una vez)\n",
    "#%pip install numpy pandas scikit-learn sentence-transformers matplotlib seaborn joblib tqdm ipywidgets fastparquet\n",
    "#%pip install imbalanced-learn"
   ]
  },
  {
   "cell_type": "code",
   "execution_count": 2,
   "id": "6b845e46",
   "metadata": {},
   "outputs": [
    {
     "name": "stdout",
     "output_type": "stream",
     "text": [
      "Using device: cpu\n"
     ]
    }
   ],
   "source": [
    "# Ejecuta esta celda después de instalar las dependencias en la celda anterior\n",
    "import os\n",
    "import random\n",
    "import json\n",
    "from pathlib import Path\n",
    "\n",
    "import numpy as np\n",
    "import pandas as pd\n",
    "import torch\n",
    "import matplotlib.pyplot as plt\n",
    "import seaborn as sns\n",
    "\n",
    "from sentence_transformers import SentenceTransformer\n",
    "from sklearn.preprocessing import LabelEncoder, StandardScaler\n",
    "from sklearn.decomposition import PCA\n",
    "from sklearn.metrics import accuracy_score, f1_score, classification_report, confusion_matrix\n",
    "from sklearn.neural_network import MLPClassifier\n",
    "\n",
    "import joblib\n",
    "import warnings\n",
    "\n",
    "warnings.filterwarnings(\"ignore\")\n",
    "\n",
    "SEED = 42\n",
    "random.seed(SEED)\n",
    "np.random.seed(SEED)\n",
    "torch.manual_seed(SEED)\n",
    "if torch.cuda.is_available():\n",
    "    torch.cuda.manual_seed_all(SEED)\n",
    "\n",
    "DEVICE = \"cuda\" if torch.cuda.is_available() else \"cpu\"\n",
    "print(f\"Using device: {DEVICE}\")"
   ]
  },
  {
   "cell_type": "markdown",
   "id": "64c48453",
   "metadata": {},
   "source": [
    "## 2. Cargar particiones de `poem_sentiment`\n",
    "Descarga las particiones desde Hugging Face usando las rutas parquet especificadas y confirma sus dimensiones."
   ]
  },
  {
   "cell_type": "code",
   "execution_count": 3,
   "id": "eaa85cf4",
   "metadata": {},
   "outputs": [
    {
     "name": "stdout",
     "output_type": "stream",
     "text": [
      "Train shape: (892, 3)\n",
      "   id                                         verse_text  label\n",
      "0   0  with pale blue berries. in these peaceful shad...      1\n",
      "1   1                it flows so long as falls the rain,      2 \n",
      "\n",
      "Validation shape: (105, 3)\n",
      "   id                                     verse_text  label\n",
      "0   0          to water, cloudlike on the bush afar,      2\n",
      "1   1  shall yet be glad for him, and he shall bless      1 \n",
      "\n",
      "Test shape: (104, 3)\n",
      "   id                                         verse_text  label\n",
      "0   0                      my canoe to make more steady,      2\n",
      "1   1  and be glad in the summer morning when the kin...      1 \n",
      "\n"
     ]
    }
   ],
   "source": [
    "splits = {\n",
    "    \"train\": \"data/train-00000-of-00001.parquet\",\n",
    "    \"validation\": \"data/validation-00000-of-00001.parquet\",\n",
    "    \"test\": \"data/test-00000-of-00001.parquet\",\n",
    "}\n",
    "base_uri = \"hf://datasets/google-research-datasets/poem_sentiment/\"\n",
    "parquet_engine = \"fastparquet\"\n",
    "df_train = pd.read_parquet(base_uri + splits[\"train\"], engine=parquet_engine)\n",
    "df_validation = pd.read_parquet(base_uri + splits[\"validation\"], engine=parquet_engine)\n",
    "df_test = pd.read_parquet(base_uri + splits[\"test\"], engine=parquet_engine)\n",
    "\n",
    "for name, df in {\"train\": df_train, \"validation\": df_validation, \"test\": df_test}.items():\n",
    "    print(f\"{name.title()} shape: {df.shape}\")\n",
    "    print(df.head(2), \"\\n\")"
   ]
  },
  {
   "cell_type": "code",
   "execution_count": 4,
   "id": "bdde8408",
   "metadata": {},
   "outputs": [
    {
     "name": "stdout",
     "output_type": "stream",
     "text": [
      "Archivos escritos:\n",
      "- train: D:\\Proyectos_DiplomadoIA\\Sentiment Analysis\\exports\\poem_sentiment_train_raw.csv\n",
      "- validation: D:\\Proyectos_DiplomadoIA\\Sentiment Analysis\\exports\\poem_sentiment_validation_raw.csv\n",
      "- test: D:\\Proyectos_DiplomadoIA\\Sentiment Analysis\\exports\\poem_sentiment_test_raw.csv\n"
     ]
    }
   ],
   "source": [
    "export_dir = Path(\"exports\")\n",
    "export_dir.mkdir(parents=True, exist_ok=True)\n",
    "\n",
    "# Columnas originales tal cual vienen del parquet\n",
    "cols = list(df_train.columns)  # típicamente: [\"verse_text\", \"label\"]\n",
    "\n",
    "paths = {\n",
    "    \"train\": export_dir / \"poem_sentiment_train_raw.csv\",\n",
    "    \"validation\": export_dir / \"poem_sentiment_validation_raw.csv\",\n",
    "    \"test\": export_dir / \"poem_sentiment_test_raw.csv\",\n",
    "}\n",
    "\n",
    "df_train[cols].to_csv(paths[\"train\"], index=False, encoding=\"utf-8-sig\")\n",
    "df_validation[cols].to_csv(paths[\"validation\"], index=False, encoding=\"utf-8-sig\")\n",
    "df_test[cols].to_csv(paths[\"test\"], index=False, encoding=\"utf-8-sig\")\n",
    "\n",
    "print(\"Archivos escritos:\")\n",
    "for k, p in paths.items():\n",
    "    print(f\"- {k}: {p.resolve()}\")"
   ]
  },
  {
   "cell_type": "markdown",
   "id": "c5420dbc",
   "metadata": {},
   "source": [
    "## 3. Preprocesar texto y etiquetas\n",
    "Aplica una limpieza ligera, asegura la consistencia de las etiquetas y genera mapeos descriptivos para interpretabilidad."
   ]
  },
  {
   "cell_type": "markdown",
   "id": "48878af5",
   "metadata": {},
   "source": [
    "### Decisión de Preprocesamiento: Estrategia Mínimo-Invasiva para Poesía\n",
    "\n",
    "**Por qué NO aplicamos limpieza agresiva (remover stopwords, puntuación, números):**\n",
    "\n",
    "La poesía es fundamentalmente diferente a texto de redes sociales. En poesía:\n",
    "- **Puntuación es semántica**: guiones, comillas, puntos suspensivos marcan pausas rítmicas y emoción\n",
    "- **Stopwords son cruciales**: preposiciones, artículos y verbos auxiliares estructuran métrica y significado\n",
    "- **Números pueden ser contenido**: referencias literarias, fechas, símbolos numéricos\n",
    "\n",
    "**Comparación de estrategias:**\n",
    "\n",
    "| Elemento | Poesía Clásica | Redes Sociales | Nuestra Decisión |\n",
    "|----------|---|---|---|\n",
    "| Puntuación | ✅ Significativa (ritmo) | ❌ Ruido | **Preservar** |\n",
    "| Stopwords | ✅ Estructura métrica | ❌ Ruido | **Preservar** |\n",
    "| Números | ✅ Contenido poético | ❌ Ruido | **Preservar** |\n",
    "| URLs/HTML | ❌ No existen | ✅ Ruido | No aplica |\n",
    "| Menciones (@) | ❌ No existen | ✅ Ruido | No aplica |\n",
    "\n",
    "**Ejemplos que fundamentan esta decisión:**\n",
    "\n",
    "**Ejemplo 1: Puntuación (Robert Frost)**\n",
    "```\n",
    "Original: \"Two roads diverged in a yellow wood, / And sorry I could not travel both\"\n",
    "Con puntuación removida: \"Two roads diverged in a yellow wood And sorry I could not travel both\"\n",
    "❌ Se pierde la coma y la barra diagonal que crean la pausa y la reflexión\n",
    "```\n",
    "\n",
    "**Ejemplo 1b: Signos de exclamación (Walt Whitman)**\n",
    "```\n",
    "Original: \"O Captain! my Captain! our fearful trip is done\"\n",
    "Con puntuación removida: \"O Captain my Captain our fearful trip is done\"\n",
    "❌ Se pierden los signos de exclamación que expresan urgencia y emoción\n",
    "```\n",
    "\n",
    "**Ejemplo 2: Stopwords (Shakespeare)**\n",
    "```\n",
    "Original: \"To be or not to be, that is the question\"\n",
    "Con stopwords removidos: \"be be question\"\n",
    "❌ Completamente sin sentido; desaparece la existencia ontológica del verso\n",
    "```\n",
    "\n",
    "**Ejemplo 3: Artículos y preposiciones**\n",
    "```\n",
    "Original: \"In the depths of the forest, I found solace\"\n",
    "Con stopwords removidos: \"depths forest found solace\"\n",
    "❌ Pierde la precisión espacial (\"In\", \"of\", \"the\") y la relación semántica\n",
    "```\n",
    "\n",
    "**Estrategia adoptada: Limpieza mínima**\n",
    "- ✅ Normalizar espacios en blanco (eliminar saltos de línea, tabs, espacios múltiples)\n",
    "- ✅ Validar que el texto es string válido\n",
    "- ✅ Dejar puntuación, números, preposiciones intactos\n",
    "- ✅ Dejar que SentenceTransformer maneje la complejidad lingüística\n",
    "\n",
    "**Por qué funciona:**\n",
    "- SentenceTransformer (`paraphrase-multilingual-MiniLM-L12-v2`) está entrenado en texto completo (incluyendo puntuación)\n",
    "- El modelo aprende a extraer características semánticas incluso con variabilidad lingüística\n",
    "- Preservar contexto completo es mejor para capturar sentiment poético matizado\n",
    "\n",
    "---\n",
    "\n",
    "### Generalización: Otros contextos donde la limpieza mínima es crucial\n",
    "\n",
    "La estrategia de limpieza **depende completamente del dominio y la tarea**. Aquí hay otros casos donde la limpieza agresiva sería contraproducente:\n",
    "\n",
    "**1. Análisis de diálogos / Conversaciones naturales**\n",
    "- Las interrupciones (`—`), pausas (`...`), risas (`haha`) y emojis comunican emoción y tono\n",
    "- Remover stopwords destruye la estructura gramatical que es crucial para detectar ironía, sarcasmo o cortesía\n",
    "- Ejemplo: `\"I'm... not sure about this\"` vs `\"not sure\"` → Se pierde la hesitación\n",
    "\n",
    "**2. Textos legales y técnicos**\n",
    "- Las preposiciones y conjunciones tienen significado legal: \"y\" vs \"o\" cambian completamente la obligación\n",
    "- La puntuación define el alcance: `\"no smoking, running, or jumping\"` ≠ `\"no smoking; running or jumping\"` \n",
    "- Remover stopwords hace el texto ilegible e introduce ambigüedad\n",
    "\n",
    "**3. Análisis de reseñas de productos**\n",
    "- Las intensidades importan: `\"somewhat satisfied\"` vs `\"very satisfied\"` vs `\"not satisfied\"` \n",
    "- Remover `\"somewhat\"`, `\"very\"`, `\"not\"` convierte todo en la misma clase\n",
    "- Los emojis y puntuación repetida (`!!!`, `...`) indican énfasis emocional\n",
    "\n",
    "**4. Redes sociales con contexto cultural**\n",
    "- Lenguaje coloquial, jerga local y emojis comunican más que las palabras formales\n",
    "- Simplemente remover stopwords pierde matices culturales\n",
    "- Aunque sí es válido remover URLs, menciones y hashtags triviales\n",
    "\n",
    "**5. Análisis de sentimiento en reseñas de películas / libros**\n",
    "- La puntuación marca pausas dramáticas: `\"It was... amazing\"` transmite sorpresa\n",
    "- Los puntos suspensivos, guiones y comillas tienen significado poético/emocional\n",
    "- Las palabras de intensidad (`absolutely`, `barely`, `terribly`) son cruciales\n",
    "\n",
    "**Regla general para elegir estrategia de limpieza:**\n",
    "\n",
    "| Pregunta | Sí → Limpieza agresiva | No → Limpieza mínima |\n",
    "|----------|---|---|\n",
    "| ¿El contexto es ruidoso (spam, hashtags, URLs)? | ✅ | ❌ |\n",
    "| ¿La puntuación/stopwords comunican significado? | ❌ | ✅ |\n",
    "| ¿Se espera lenguaje formal y estructurado? | ✅ | ❌ |\n",
    "| ¿La emoción, tono o matiz importan? | ❌ | ✅ |\n",
    "| ¿Es un corpus de texto con reglas de idioma bien definidas? | ✅ | ❌ |\n",
    "| ¿Necesito capturar la voz del autor / contexto cultural? | ❌ | ✅ |\n",
    "\n",
    "**Conclusión para nuestro caso (poesía):** La emoción, ritmo y matiz son centrales. Limpieza mínima es la decisión correcta.\n",
    "\n",
    "---\n",
    "\n",
    "### Referencias académicas que sustentan esta decisión\n",
    "\n",
    "**Recursos accesibles y open-access:**\n",
    "\n",
    "**1. Sobre embeddings y preservación de contexto:**\n",
    "- Devlin, J., Chang, M. W., Lee, K., & Toutanova, K. (2019). \"BERT: Pre-training of Deep Bidirectional Transformers for Language Understanding.\" \n",
    "  - 📄 Disponible en: https://arxiv.org/abs/1810.04805 (acceso libre)\n",
    "  - Demuestra que modelos transformer capturan significado semántico incluso con variabilidad sintáctica y puntuación\n",
    "  \n",
    "- Reimers, N., & Gurevych, I. (2019). \"Sentence-BERT: Sentence Embeddings using Siamese BERT-Networks.\"\n",
    "  - 📄 Disponible en: https://arxiv.org/abs/1908.10084 (acceso libre)\n",
    "  - Los embeddings entrenados en texto completo (con puntuación) generalizan mejor que versiones limpiadas\n",
    "\n",
    "**2. Sobre NLP y procesamiento de texto (Libro de referencia clásico):**\n",
    "- Bird, S., Klein, E., & Loper, E. (2009). *Natural Language Processing with Python: Analyzing Text with the Natural Language Toolkit*\n",
    "  - 📖 Disponible GRATIS en: https://www.nltk.org/book/ (recurso oficial open-access)\n",
    "  - Capítulo 3: advierte contra la limpieza agresiva automática sin considerar el dominio específico\n",
    "\n",
    "**3. Específicamente sobre análisis de sentimiento y emoción:**\n",
    "- Mohammad, S. M., Turney, P. D. (2010). \"Emotions Evoked by Common Words and Phrases: Using Mechanical Turk to Create an Emotion Lexicon.\"\n",
    "  - 📄 Disponible en: https://www.aclweb.org/anthology/P10-1038/ (proceedings LREC, acceso libre)\n",
    "  - Enfatiza que palabras funcionales (stopwords) comunican emoción en contextos específicos\n",
    "\n",
    "- Kao, J., & Jurafsky, D. (2012). \"A Computational Analysis of Style, Affect, and Imagery in Contemporary Poetry.\"\n",
    "  - 📄 Disponible en: https://nlp.stanford.edu/pubs/poetry-proceedings.pdf (acceso libre desde Stanford NLP)\n",
    "  - Demuestra que la puntuación y estructura sintáctica son esenciales para análisis de poesía\n",
    "\n",
    "**4. Sobre multilingual embeddings (Documentación oficial):**\n",
    "- Sentence Transformers Documentation: https://www.sbert.net/\n",
    "  - 📖 Disponible GRATIS (documentación oficial completa y código de ejemplo)\n",
    "  - Explica por qué MiniLM preserva significado semántico incluso con compresión\n",
    "\n",
    "**5. Guías prácticas de preprocesamiento:**\n",
    "- Real Python - \"Natural Language Processing in Python\" https://realpython.com/search?q=nlp\n",
    "  - 📖 Tutoriales accesibles y gratuitos con ejemplos de preprocesamiento context-aware\n",
    "  \n",
    "- Analytics Vidhya - \"Text Preprocessing in NLP\" https://www.analyticsvidhya.com/\n",
    "  - 📖 Artículos educativos sobre por qué la estrategia de limpieza depende del dominio\n",
    "\n",
    "**Implicación académica:** La investigación peer-reviewed demuestra que para tareas sensibles a matiz emocional (como análisis de poesía), la preservación de contexto lingüístico completo produce mejores resultados que la limpieza agresiva. Todas estas referencias están disponibles en acceso abierto o plataformas educativas gratuitas.\n",
    "\n",
    "\n"
   ]
  },
  {
   "cell_type": "code",
   "execution_count": 5,
   "id": "5c56e625",
   "metadata": {},
   "outputs": [
    {
     "name": "stdout",
     "output_type": "stream",
     "text": [
      "Encoded label mapping:\n",
      "  Original 0 → Encoded 0 (negative)\n",
      "  Original 1 → Encoded 1 (positive)\n",
      "  Original 2 → Encoded 2 (no_impact)\n",
      "  Original 3 → Encoded 3 (mixed)\n"
     ]
    }
   ],
   "source": [
    "def clean_text(text: str) -> str:\n",
    "    if not isinstance(text, str):\n",
    "        return \"\"\n",
    "    return \" \".join(text.strip().split())\n",
    "\n",
    "train_texts = df_train[\"verse_text\"].astype(str).apply(clean_text)\n",
    "validation_texts = df_validation[\"verse_text\"].astype(str).apply(clean_text)\n",
    "test_texts = df_test[\"verse_text\"].astype(str).apply(clean_text)\n",
    "\n",
    "label_encoder = LabelEncoder()\n",
    "y_train = label_encoder.fit_transform(df_train[\"label\"])\n",
    "y_validation = label_encoder.transform(df_validation[\"label\"])\n",
    "y_test = label_encoder.transform(df_test[\"label\"])\n",
    "\n",
    "original_to_encoded = {int(orig): int(label_encoder.transform([orig])[0]) for orig in label_encoder.classes_}\n",
    "label_name_map = {\n",
    "    0: \"negative\",\n",
    "    1: \"positive\",\n",
    "    2: \"no_impact\",\n",
    "    3: \"mixed\",\n",
    "}\n",
    "encoded_to_name = {encoded: label_name_map.get(orig, f\"class_{orig}\")\n",
    "                    for orig, encoded in original_to_encoded.items()}\n",
    "\n",
    "print(\"Encoded label mapping:\")\n",
    "for orig, encoded in original_to_encoded.items():\n",
    "    label_name = label_name_map.get(orig, f\"class_{orig}\")\n",
    "    print(f\"  Original {orig} → Encoded {encoded} ({label_name})\")"
   ]
  },
  {
   "cell_type": "markdown",
   "id": "d0b09b1e",
   "metadata": {},
   "source": [
    "### Exploración de distribución de etiquetas\n",
    "Verifica que las etiquetas originales corresponden con los nombres esperados y revisa el desbalance por partición."
   ]
  },
  {
   "cell_type": "code",
   "execution_count": 6,
   "id": "fa1fb265",
   "metadata": {},
   "outputs": [
    {
     "name": "stdout",
     "output_type": "stream",
     "text": [
      "\n",
      "=== TRAIN ===\n"
     ]
    },
    {
     "data": {
      "application/vnd.microsoft.datawrangler.viewer.v0+json": {
       "columns": [
        {
         "name": "index",
         "rawType": "int64",
         "type": "integer"
        },
        {
         "name": "label_original",
         "rawType": "int64",
         "type": "integer"
        },
        {
         "name": "label_name",
         "rawType": "object",
         "type": "string"
        },
        {
         "name": "count",
         "rawType": "int64",
         "type": "integer"
        },
        {
         "name": "encoded_label",
         "rawType": "int64",
         "type": "integer"
        },
        {
         "name": "share_pct",
         "rawType": "float64",
         "type": "float"
        }
       ],
       "ref": "04dfa889-8228-4211-95cb-0801013309b3",
       "rows": [
        [
         "0",
         "0",
         "negative",
         "155",
         "0",
         "17.376681614349778"
        ],
        [
         "1",
         "1",
         "positive",
         "133",
         "1",
         "14.91031390134529"
        ],
        [
         "2",
         "2",
         "no_impact",
         "555",
         "2",
         "62.21973094170403"
        ],
        [
         "3",
         "3",
         "mixed",
         "49",
         "3",
         "5.493273542600897"
        ]
       ],
       "shape": {
        "columns": 5,
        "rows": 4
       }
      },
      "text/html": [
       "<div>\n",
       "<style scoped>\n",
       "    .dataframe tbody tr th:only-of-type {\n",
       "        vertical-align: middle;\n",
       "    }\n",
       "\n",
       "    .dataframe tbody tr th {\n",
       "        vertical-align: top;\n",
       "    }\n",
       "\n",
       "    .dataframe thead th {\n",
       "        text-align: right;\n",
       "    }\n",
       "</style>\n",
       "<table border=\"1\" class=\"dataframe\">\n",
       "  <thead>\n",
       "    <tr style=\"text-align: right;\">\n",
       "      <th></th>\n",
       "      <th>label_original</th>\n",
       "      <th>label_name</th>\n",
       "      <th>count</th>\n",
       "      <th>encoded_label</th>\n",
       "      <th>share_pct</th>\n",
       "    </tr>\n",
       "  </thead>\n",
       "  <tbody>\n",
       "    <tr>\n",
       "      <th>0</th>\n",
       "      <td>0</td>\n",
       "      <td>negative</td>\n",
       "      <td>155</td>\n",
       "      <td>0</td>\n",
       "      <td>17.376682</td>\n",
       "    </tr>\n",
       "    <tr>\n",
       "      <th>1</th>\n",
       "      <td>1</td>\n",
       "      <td>positive</td>\n",
       "      <td>133</td>\n",
       "      <td>1</td>\n",
       "      <td>14.910314</td>\n",
       "    </tr>\n",
       "    <tr>\n",
       "      <th>2</th>\n",
       "      <td>2</td>\n",
       "      <td>no_impact</td>\n",
       "      <td>555</td>\n",
       "      <td>2</td>\n",
       "      <td>62.219731</td>\n",
       "    </tr>\n",
       "    <tr>\n",
       "      <th>3</th>\n",
       "      <td>3</td>\n",
       "      <td>mixed</td>\n",
       "      <td>49</td>\n",
       "      <td>3</td>\n",
       "      <td>5.493274</td>\n",
       "    </tr>\n",
       "  </tbody>\n",
       "</table>\n",
       "</div>"
      ],
      "text/plain": [
       "   label_original label_name  count  encoded_label  share_pct\n",
       "0               0   negative    155              0  17.376682\n",
       "1               1   positive    133              1  14.910314\n",
       "2               2  no_impact    555              2  62.219731\n",
       "3               3      mixed     49              3   5.493274"
      ]
     },
     "metadata": {},
     "output_type": "display_data"
    },
    {
     "data": {
      "image/png": "[encoded data removed]",
      "text/plain": [
       "<Figure size 600x400 with 1 Axes>"
      ]
     },
     "metadata": {},
     "output_type": "display_data"
    },
    {
     "name": "stdout",
     "output_type": "stream",
     "text": [
      "\n",
      "=== VALIDATION ===\n"
     ]
    },
    {
     "data": {
      "application/vnd.microsoft.datawrangler.viewer.v0+json": {
       "columns": [
        {
         "name": "index",
         "rawType": "int64",
         "type": "integer"
        },
        {
         "name": "label_original",
         "rawType": "int64",
         "type": "integer"
        },
        {
         "name": "label_name",
         "rawType": "object",
         "type": "string"
        },
        {
         "name": "count",
         "rawType": "int64",
         "type": "integer"
        },
        {
         "name": "encoded_label",
         "rawType": "int64",
         "type": "integer"
        },
        {
         "name": "share_pct",
         "rawType": "float64",
         "type": "float"
        }
       ],
       "ref": "12effe25-261c-4642-81ba-f21358735388",
       "rows": [
        [
         "0",
         "0",
         "negative",
         "19",
         "0",
         "18.095238095238095"
        ],
        [
         "1",
         "1",
         "positive",
         "17",
         "1",
         "16.19047619047619"
        ],
        [
         "2",
         "2",
         "no_impact",
         "69",
         "2",
         "65.71428571428571"
        ]
       ],
       "shape": {
        "columns": 5,
        "rows": 3
       }
      },
      "text/html": [
       "<div>\n",
       "<style scoped>\n",
       "    .dataframe tbody tr th:only-of-type {\n",
       "        vertical-align: middle;\n",
       "    }\n",
       "\n",
       "    .dataframe tbody tr th {\n",
       "        vertical-align: top;\n",
       "    }\n",
       "\n",
       "    .dataframe thead th {\n",
       "        text-align: right;\n",
       "    }\n",
       "</style>\n",
       "<table border=\"1\" class=\"dataframe\">\n",
       "  <thead>\n",
       "    <tr style=\"text-align: right;\">\n",
       "      <th></th>\n",
       "      <th>label_original</th>\n",
       "      <th>label_name</th>\n",
       "      <th>count</th>\n",
       "      <th>encoded_label</th>\n",
       "      <th>share_pct</th>\n",
       "    </tr>\n",
       "  </thead>\n",
       "  <tbody>\n",
       "    <tr>\n",
       "      <th>0</th>\n",
       "      <td>0</td>\n",
       "      <td>negative</td>\n",
       "      <td>19</td>\n",
       "      <td>0</td>\n",
       "      <td>18.095238</td>\n",
       "    </tr>\n",
       "    <tr>\n",
       "      <th>1</th>\n",
       "      <td>1</td>\n",
       "      <td>positive</td>\n",
       "      <td>17</td>\n",
       "      <td>1</td>\n",
       "      <td>16.190476</td>\n",
       "    </tr>\n",
       "    <tr>\n",
       "      <th>2</th>\n",
       "      <td>2</td>\n",
       "      <td>no_impact</td>\n",
       "      <td>69</td>\n",
       "      <td>2</td>\n",
       "      <td>65.714286</td>\n",
       "    </tr>\n",
       "  </tbody>\n",
       "</table>\n",
       "</div>"
      ],
      "text/plain": [
       "   label_original label_name  count  encoded_label  share_pct\n",
       "0               0   negative     19              0  18.095238\n",
       "1               1   positive     17              1  16.190476\n",
       "2               2  no_impact     69              2  65.714286"
      ]
     },
     "metadata": {},
     "output_type": "display_data"
    },
    {
     "data": {
      "image/png": "[encoded data removed]",
      "text/plain": [
       "<Figure size 600x400 with 1 Axes>"
      ]
     },
     "metadata": {},
     "output_type": "display_data"
    },
    {
     "name": "stdout",
     "output_type": "stream",
     "text": [
      "\n",
      "=== TEST ===\n"
     ]
    },
    {
     "data": {
      "application/vnd.microsoft.datawrangler.viewer.v0+json": {
       "columns": [
        {
         "name": "index",
         "rawType": "int64",
         "type": "integer"
        },
        {
         "name": "label_original",
         "rawType": "int64",
         "type": "integer"
        },
        {
         "name": "label_name",
         "rawType": "object",
         "type": "string"
        },
        {
         "name": "count",
         "rawType": "int64",
         "type": "integer"
        },
        {
         "name": "encoded_label",
         "rawType": "int64",
         "type": "integer"
        },
        {
         "name": "share_pct",
         "rawType": "float64",
         "type": "float"
        }
       ],
       "ref": "76704801-7f2a-49ce-ba91-a609009b3f9b",
       "rows": [
        [
         "0",
         "0",
         "negative",
         "19",
         "0",
         "18.269230769230766"
        ],
        [
         "1",
         "1",
         "positive",
         "16",
         "1",
         "15.384615384615385"
        ],
        [
         "2",
         "2",
         "no_impact",
         "69",
         "2",
         "66.34615384615384"
        ]
       ],
       "shape": {
        "columns": 5,
        "rows": 3
       }
      },
      "text/html": [
       "<div>\n",
       "<style scoped>\n",
       "    .dataframe tbody tr th:only-of-type {\n",
       "        vertical-align: middle;\n",
       "    }\n",
       "\n",
       "    .dataframe tbody tr th {\n",
       "        vertical-align: top;\n",
       "    }\n",
       "\n",
       "    .dataframe thead th {\n",
       "        text-align: right;\n",
       "    }\n",
       "</style>\n",
       "<table border=\"1\" class=\"dataframe\">\n",
       "  <thead>\n",
       "    <tr style=\"text-align: right;\">\n",
       "      <th></th>\n",
       "      <th>label_original</th>\n",
       "      <th>label_name</th>\n",
       "      <th>count</th>\n",
       "      <th>encoded_label</th>\n",
       "      <th>share_pct</th>\n",
       "    </tr>\n",
       "  </thead>\n",
       "  <tbody>\n",
       "    <tr>\n",
       "      <th>0</th>\n",
       "      <td>0</td>\n",
       "      <td>negative</td>\n",
       "      <td>19</td>\n",
       "      <td>0</td>\n",
       "      <td>18.269231</td>\n",
       "    </tr>\n",
       "    <tr>\n",
       "      <th>1</th>\n",
       "      <td>1</td>\n",
       "      <td>positive</td>\n",
       "      <td>16</td>\n",
       "      <td>1</td>\n",
       "      <td>15.384615</td>\n",
       "    </tr>\n",
       "    <tr>\n",
       "      <th>2</th>\n",
       "      <td>2</td>\n",
       "      <td>no_impact</td>\n",
       "      <td>69</td>\n",
       "      <td>2</td>\n",
       "      <td>66.346154</td>\n",
       "    </tr>\n",
       "  </tbody>\n",
       "</table>\n",
       "</div>"
      ],
      "text/plain": [
       "   label_original label_name  count  encoded_label  share_pct\n",
       "0               0   negative     19              0  18.269231\n",
       "1               1   positive     16              1  15.384615\n",
       "2               2  no_impact     69              2  66.346154"
      ]
     },
     "metadata": {},
     "output_type": "display_data"
    },
    {
     "data": {
      "image/png": "[encoded data removed]",
      "text/plain": [
       "<Figure size 600x400 with 1 Axes>"
      ]
     },
     "metadata": {},
     "output_type": "display_data"
    }
   ],
   "source": [
    "def summarize_labels(df, split_name):\n",
    "    counts = df[\"label\"].value_counts().sort_index()\n",
    "    summary = pd.DataFrame({\n",
    "        \"label_original\": counts.index.astype(int),\n",
    "        \"label_name\": [label_name_map.get(int(lbl), f\"class_{lbl}\") for lbl in counts.index],\n",
    "        \"count\": counts.values,\n",
    "    })\n",
    "    summary[\"encoded_label\"] = label_encoder.transform(summary[\"label_original\"].to_numpy())\n",
    "    summary[\"share_pct\"] = (summary[\"count\"] / summary[\"count\"].sum()) * 100\n",
    "    display(summary)\n",
    "    \n",
    "    plt.figure(figsize=(6, 4))\n",
    "    sns.barplot(data=summary, x=\"label_name\", y=\"count\", palette=\"viridis\")\n",
    "    plt.title(f\"Distribución de etiquetas - {split_name}\")\n",
    "    plt.xlabel(\"Etiqueta\")\n",
    "    plt.ylabel(\"Cantidad\")\n",
    "    plt.tight_layout()\n",
    "    plt.show()\n",
    "\n",
    "for split_name, df_split in [(\"Train\", df_train), (\"Validation\", df_validation), (\"Test\", df_test)]:\n",
    "    print(f\"\\n=== {split_name.upper()} ===\")\n",
    "    summarize_labels(df_split, split_name)"
   ]
  },
  {
   "cell_type": "markdown",
   "id": "3f3453cc",
   "metadata": {},
   "source": [
    "## 4. Generar embeddings con `multilingual_bert`\n",
    "Inicializa el modelo `paraphrase-multilingual-MiniLM-L12-v2` y codifica los textos en lotes para mantener el uso de memoria bajo control."
   ]
  },
  {
   "cell_type": "code",
   "execution_count": 7,
   "id": "ccfdeec6",
   "metadata": {},
   "outputs": [
    {
     "name": "stdout",
     "output_type": "stream",
     "text": [
      "Loaded embedder: paraphrase-multilingual-MiniLM-L12-v2\n",
      "Train embeddings shape: (892, 384)\n",
      "Validation embeddings shape: (105, 384)\n",
      "Test embeddings shape: (104, 384)\n",
      "\n"
     ]
    }
   ],
   "source": [
    "def encode_texts(texts, model, batch_size=32):\n",
    "    embeddings = []\n",
    "    for start in range(0, len(texts), batch_size):\n",
    "        batch_texts = texts.iloc[start:start + batch_size].tolist()\n",
    "        batch_embeddings = model.encode(\n",
    "            batch_texts,\n",
    "            batch_size=batch_size,\n",
    "            convert_to_numpy=True,\n",
    "            show_progress_bar=False,\n",
    "            device=DEVICE,\n",
    "        )\n",
    "        embeddings.append(batch_embeddings)\n",
    "    return np.vstack(embeddings)\n",
    "\n",
    "multilingual_model_name = \"paraphrase-multilingual-MiniLM-L12-v2\"\n",
    "multilingual_model = SentenceTransformer(multilingual_model_name, device=DEVICE)\n",
    "print(f\"Loaded embedder: {multilingual_model_name}\")\n",
    "\n",
    "X_train_embeddings = encode_texts(train_texts, multilingual_model, batch_size=32)\n",
    "X_validation_embeddings = encode_texts(validation_texts, multilingual_model, batch_size=32)\n",
    "X_test_embeddings = encode_texts(test_texts, multilingual_model, batch_size=32)\n",
    "\n",
    "print(f\"Train embeddings shape: {X_train_embeddings.shape}\")\n",
    "print(f\"Validation embeddings shape: {X_validation_embeddings.shape}\")\n",
    "print(f\"Test embeddings shape: {X_test_embeddings.shape}\")\n",
    "print(\"\")"
   ]
  },
  {
   "cell_type": "markdown",
   "id": "f30edd64",
   "metadata": {},
   "source": [
    "## 5. Escalar *features* y aplicar PCA opcional\n",
    "Estandariza los embeddings con `StandardScaler` y reduce dimensionalidad con PCA solo si logra conservar al menos 95% de la varianza."
   ]
  },
  {
   "cell_type": "code",
   "execution_count": 8,
   "id": "3f3b87c0",
   "metadata": {},
   "outputs": [
    {
     "name": "stdout",
     "output_type": "stream",
     "text": [
      "PCA applied: reduced to 149 dims (var=0.9509)\n"
     ]
    }
   ],
   "source": [
    "scaler = StandardScaler()\n",
    "X_train_scaled = scaler.fit_transform(X_train_embeddings)\n",
    "X_validation_scaled = scaler.transform(X_validation_embeddings)\n",
    "X_test_scaled = scaler.transform(X_test_embeddings)\n",
    "\n",
    "pca = None\n",
    "pca_variance = 1.0\n",
    "if X_train_scaled.shape[1] > 50:\n",
    "    pca = PCA(n_components=0.95, random_state=SEED)\n",
    "    X_train_ready = pca.fit_transform(X_train_scaled)\n",
    "    X_validation_ready = pca.transform(X_validation_scaled)\n",
    "    X_test_ready = pca.transform(X_test_scaled)\n",
    "    pca_variance = float(pca.explained_variance_ratio_.sum())\n",
    "    print(f\"PCA applied: reduced to {X_train_ready.shape[1]} dims (var={pca_variance:.4f})\")\n",
    "else:\n",
    "    X_train_ready = X_train_scaled\n",
    "    X_validation_ready = X_validation_scaled\n",
    "    X_test_ready = X_test_scaled\n",
    "    print(\"PCA skipped: dimensionality already compact\")"
   ]
  },
  {
   "cell_type": "markdown",
   "id": "64882326",
   "metadata": {},
   "source": [
    "## 6. Entrenar `MLPClassifier` optimizado\n",
    "Ajusta una red `MLPClassifier` profunda con *early stopping* y registra la curva de pérdida para monitorizar convergencia."
   ]
  },
  {
   "cell_type": "code",
   "execution_count": 9,
   "id": "bfcbe65d",
   "metadata": {},
   "outputs": [
    {
     "data": {
      "image/png": "[encoded data removed]",
      "text/plain": [
       "<Figure size 800x400 with 1 Axes>"
      ]
     },
     "metadata": {},
     "output_type": "display_data"
    },
    {
     "name": "stdout",
     "output_type": "stream",
     "text": [
      "Training epochs run: 30\n"
     ]
    }
   ],
   "source": [
    "mlp_clf = MLPClassifier(\n",
    "    early_stopping=True,\n",
    "    hidden_layer_sizes=(256, 128, 64),\n",
    "    learning_rate=\"adaptive\",\n",
    "    max_iter=500,\n",
    "    random_state=SEED,\n",
    "    validation_fraction=0.15,\n",
    "    alpha=0.001,\n",
    "    n_iter_no_change=20,\n",
    "    solver='adam',\n",
    "    activation='relu',\n",
    ")\n",
    "\n",
    "\n",
    "mlp_clf.fit(X_train_ready, y_train)\n",
    "\n",
    "loss_curve = mlp_clf.loss_curve_\n",
    "plt.figure(figsize=(8, 4))\n",
    "plt.plot(loss_curve, label=\"Training loss\")\n",
    "plt.title(\"MLPClassifier Loss Curve\")\n",
    "plt.xlabel(\"Epoch\")\n",
    "plt.ylabel(\"Loss\")\n",
    "plt.grid(True, alpha=0.3)\n",
    "plt.legend()\n",
    "plt.show()\n",
    "\n",
    "print(f\"Training epochs run: {mlp_clf.n_iter_}\")\n",
    "if hasattr(mlp_clf, \"best_iteration_\") and mlp_clf.best_iteration_ is not None:\n",
    "    print(f\"Best iteration (early stopping): {mlp_clf.best_iteration_}\")"
   ]
  },
  {
   "cell_type": "markdown",
   "id": "e16fabf2",
   "metadata": {},
   "source": [
    "## 7. Evaluar en validación y prueba\n",
    "Obtén métricas clave —accuracy, F1 ponderado, reporte de clasificación y matrices de confusión— para validar el rendimiento del pipeline."
   ]
  },
  {
   "cell_type": "markdown",
   "id": "1c49de88",
   "metadata": {},
   "source": [
    "### Consideración: Clase 'mixed' ausente en validation/test\n",
    "\n",
    "**Situación del dataset original (poem_sentiment):**\n",
    "- La clase `mixed` (label=3) **solo aparece en el conjunto de training** con 49 muestras (~5.5%)\n",
    "- **Validation y Test NO contienen muestras de la clase `mixed`**\n",
    "- Esto es una característica del dataset oficial de Google Research, no una limitación de nuestro modelo\n",
    "\n",
    "**Impacto en las métricas:**\n",
    "- Si reportáramos todas las 4 clases en validation/test, la clase `mixed` tendría métricas artificialmente cero (0% precision, recall, F1)\n",
    "- Esto distorsionaría el macro-average y daría una impresión engañosa del rendimiento real\n",
    "\n",
    "**Estrategia adoptada:**\n",
    "- Reportamos métricas **solo para las 3 clases presentes** en cada split: {negative, positive, no_impact}\n",
    "- El modelo **fue entrenado** con 49 muestras de `mixed`, pero **no se evalúa** en validation/test porque el dataset no las contiene\n",
    "- Esto es honesto y mantiene la fidelidad con el dataset oficial\n",
    "\n",
    "**Documentación:**\n",
    "- Cada reporte de métricas indica explícitamente qué clases se evaluaron\n"
   ]
  },
  {
   "cell_type": "code",
   "execution_count": 13,
   "id": "87fec696",
   "metadata": {},
   "outputs": [
    {
     "name": "stdout",
     "output_type": "stream",
     "text": [
      "=== VALIDATION METRICS ===\n",
      "(Evaluando solo clases presentes: ['negative', 'positive', 'no_impact'])\n",
      "Accuracy: 0.8476\n",
      "F1-weighted: 0.8420\n",
      "              precision    recall  f1-score   support\n",
      "\n",
      "    negative       0.93      0.68      0.79        19\n",
      "    positive       0.89      0.47      0.62        17\n",
      "   no_impact       0.85      0.99      0.91        69\n",
      "\n",
      "   micro avg       0.86      0.85      0.86       105\n",
      "   macro avg       0.89      0.71      0.77       105\n",
      "weighted avg       0.87      0.85      0.84       105\n",
      "\n"
     ]
    },
    {
     "data": {
      "image/png": "[encoded data removed]",
      "text/plain": [
       "<Figure size 500x400 with 2 Axes>"
      ]
     },
     "metadata": {},
     "output_type": "display_data"
    },
    {
     "name": "stdout",
     "output_type": "stream",
     "text": [
      "=== TEST METRICS ===\n",
      "(Evaluando solo clases presentes: ['negative', 'positive', 'no_impact'])\n",
      "Accuracy: 0.8269\n",
      "F1-weighted: 0.8159\n",
      "              precision    recall  f1-score   support\n",
      "\n",
      "    negative       0.83      0.79      0.81        19\n",
      "    positive       0.78      0.44      0.56        16\n",
      "   no_impact       0.83      0.93      0.88        69\n",
      "\n",
      "    accuracy                           0.83       104\n",
      "   macro avg       0.81      0.72      0.75       104\n",
      "weighted avg       0.82      0.83      0.82       104\n",
      "\n"
     ]
    },
    {
     "data": {
      "image/png": "[encoded data removed]",
      "text/plain": [
       "<Figure size 500x400 with 2 Axes>"
      ]
     },
     "metadata": {},
     "output_type": "display_data"
    }
   ],
   "source": [
    "# Reemplazar celda \"## 7. Evaluar en validación y prueba\"\n",
    "\n",
    "def evaluate_split(X, y_true, split_name):\n",
    "    # Filtra solo las clases presentes (excluye mixed si no está en el split)\n",
    "    labels_present = sorted(np.unique(y_true))\n",
    "    \n",
    "    y_pred = mlp_clf.predict(X)\n",
    "    accuracy = accuracy_score(y_true, y_pred)\n",
    "    f1_w = f1_score(y_true, y_pred, average=\"weighted\", labels=labels_present)\n",
    "    \n",
    "    report = classification_report(\n",
    "        y_true,\n",
    "        y_pred,\n",
    "        labels=labels_present,\n",
    "        target_names=[encoded_to_name[idx] for idx in labels_present],\n",
    "        zero_division=0,\n",
    "    )\n",
    "    print(f\"=== {split_name.upper()} METRICS ===\")\n",
    "    print(f\"(Evaluando solo clases presentes: {[encoded_to_name[idx] for idx in labels_present]})\")\n",
    "    print(f\"Accuracy: {accuracy:.4f}\")\n",
    "    print(f\"F1-weighted: {f1_w:.4f}\")\n",
    "    print(report)\n",
    "    \n",
    "    cm = confusion_matrix(y_true, y_pred, labels=labels_present)\n",
    "    plt.figure(figsize=(5, 4))\n",
    "    sns.heatmap(cm, annot=True, fmt=\"d\", cmap=\"Blues\",\n",
    "                xticklabels=[encoded_to_name[idx] for idx in labels_present],\n",
    "                yticklabels=[encoded_to_name[idx] for idx in labels_present])\n",
    "    plt.title(f\"Confusion Matrix - {split_name}\")\n",
    "    plt.xlabel(\"Predicted\")\n",
    "    plt.ylabel(\"True\")\n",
    "    plt.tight_layout()\n",
    "    plt.show()\n",
    "    \n",
    "    return {\"accuracy\": accuracy, \"f1_weighted\": f1_w}\n",
    "\n",
    "validation_metrics = evaluate_split(X_validation_ready, y_validation, \"Validation\")\n",
    "test_metrics = evaluate_split(X_test_ready, y_test, \"Test\")"
   ]
  },
  {
   "cell_type": "code",
   "execution_count": 11,
   "id": "87f8da6f",
   "metadata": {},
   "outputs": [
    {
     "data": {
      "application/vnd.microsoft.datawrangler.viewer.v0+json": {
       "columns": [
        {
         "name": "index",
         "rawType": "int64",
         "type": "integer"
        },
        {
         "name": "verse_text",
         "rawType": "object",
         "type": "string"
        },
        {
         "name": "true_label",
         "rawType": "object",
         "type": "string"
        },
        {
         "name": "pred_label",
         "rawType": "object",
         "type": "string"
        },
        {
         "name": "pred_confidence",
         "rawType": "float32",
         "type": "float"
        }
       ],
       "ref": "c62f7ff4-3520-4946-bfe6-b9774aacb14d",
       "rows": [
        [
         "0",
         "half the tell-tale south-wind said,--",
         "no_impact",
         "no_impact",
         "0.9794871"
        ],
        [
         "1",
         "i look up from this page of thine,",
         "no_impact",
         "no_impact",
         "0.98258173"
        ],
        [
         "2",
         "he hid his gold,",
         "no_impact",
         "no_impact",
         "0.9121352"
        ],
        [
         "3",
         "if they are hungry, paradise",
         "no_impact",
         "no_impact",
         "0.4535007"
        ],
        [
         "4",
         "the fear of angels, awful though they be,",
         "negative",
         "negative",
         "0.9550512"
        ],
        [
         "5",
         "shall live my highland mary.",
         "no_impact",
         "no_impact",
         "0.6681787"
        ],
        [
         "6",
         "and i turned away to thee,",
         "no_impact",
         "no_impact",
         "0.64994556"
        ],
        [
         "7",
         "i met them one day and each had a flower",
         "no_impact",
         "no_impact",
         "0.95526403"
        ],
        [
         "8",
         "this endless outrage shall they still sustain?",
         "negative",
         "negative",
         "0.78273076"
        ],
        [
         "9",
         "now is past since last we met",
         "no_impact",
         "no_impact",
         "0.9624475"
        ],
        [
         "10",
         "thus while the trojan prince employs his eyes,",
         "no_impact",
         "no_impact",
         "0.50184804"
        ],
        [
         "11",
         "blow bigger then your own: the games we play",
         "no_impact",
         "no_impact",
         "0.43261284"
        ],
        [
         "12",
         "he might have been as doubtful once",
         "no_impact",
         "no_impact",
         "0.8636111"
        ],
        [
         "13",
         "they beached their galley on the shore, and sought",
         "no_impact",
         "no_impact",
         "0.64955676"
        ],
        [
         "14",
         "and others say, as we have said:",
         "no_impact",
         "no_impact",
         "0.9831625"
        ],
        [
         "15",
         "youth, i do adore thee;",
         "positive",
         "positive",
         "0.71514475"
        ],
        [
         "16",
         "sith i might some counsel find",
         "no_impact",
         "no_impact",
         "0.9713532"
        ],
        [
         "17",
         "where the warm life we cannot see--",
         "positive",
         "no_impact",
         "0.52666056"
        ],
        [
         "18",
         "a simple strain--",
         "no_impact",
         "no_impact",
         "0.6967287"
        ],
        [
         "19",
         "but still within my bosom's core",
         "no_impact",
         "no_impact",
         "0.9177259"
        ],
        [
         "20",
         "a wail of utter agony",
         "negative",
         "negative",
         "0.9940983"
        ],
        [
         "21",
         "down deep in the ground a box of gold.",
         "no_impact",
         "no_impact",
         "0.9603993"
        ],
        [
         "22",
         "that we must change for heav'n, this mournful gloom",
         "negative",
         "negative",
         "0.6080015"
        ],
        [
         "23",
         "shall dwell in the house of my fathers and the land of the people's praise;",
         "positive",
         "no_impact",
         "0.82428175"
        ],
        [
         "24",
         "but, fixing on the horrid maid his eye,",
         "negative",
         "negative",
         "0.9332989"
        ],
        [
         "25",
         "from its stem the ripening ear--",
         "no_impact",
         "no_impact",
         "0.8290127"
        ],
        [
         "26",
         "i cannot tell rude listeners",
         "negative",
         "no_impact",
         "0.5627005"
        ],
        [
         "27",
         "of long-uncoupled bed, and childless eld,",
         "no_impact",
         "no_impact",
         "0.8094609"
        ],
        [
         "28",
         "whut i keer ef day is long,",
         "no_impact",
         "no_impact",
         "0.9869602"
        ],
        [
         "29",
         "i see the thing as clear as light,--",
         "positive",
         "no_impact",
         "0.7492742"
        ],
        [
         "30",
         "that i an accessary needs must be,",
         "no_impact",
         "no_impact",
         "0.8882886"
        ],
        [
         "31",
         "of robert burns and alexander.",
         "no_impact",
         "negative",
         "0.9226165"
        ],
        [
         "32",
         "with shame his glowing cheeks, his eyes with fury burn’d.",
         "negative",
         "negative",
         "0.97839725"
        ],
        [
         "33",
         "crouching and sleeping neath its grassy lair,",
         "no_impact",
         "no_impact",
         "0.9697808"
        ],
        [
         "34",
         "to wakeful frenzy's vigil--rages,",
         "negative",
         "negative",
         "0.9065635"
        ],
        [
         "35",
         "and the tree trembled, and the shouting cries",
         "negative",
         "negative",
         "0.99640876"
        ],
        [
         "36",
         "roamed amongst the roses white and red.",
         "no_impact",
         "no_impact",
         "0.9270994"
        ],
        [
         "37",
         "for the whole cardinals' college, or",
         "no_impact",
         "no_impact",
         "0.8732942"
        ],
        [
         "38",
         "their names let hands of horn and tan",
         "no_impact",
         "no_impact",
         "0.9348302"
        ],
        [
         "39",
         "yea, soon, no consonant unsmooth",
         "no_impact",
         "no_impact",
         "0.9691603"
        ],
        [
         "40",
         "the moon hath veiled her face,",
         "no_impact",
         "no_impact",
         "0.43507212"
        ],
        [
         "41",
         "down in lovah's lane.",
         "no_impact",
         "no_impact",
         "0.9494647"
        ],
        [
         "42",
         "indignantly i hurled the cry:",
         "negative",
         "negative",
         "0.98969895"
        ],
        [
         "43",
         "fit for an abbot of theleme,",
         "no_impact",
         "no_impact",
         "0.703851"
        ],
        [
         "44",
         "the life of love that gave it--settles.",
         "positive",
         "positive",
         "0.4309968"
        ],
        [
         "45",
         "such days as thou, not even thou didst know,",
         "no_impact",
         "no_impact",
         "0.9592948"
        ],
        [
         "46",
         "those wastes of frozen billows that were hurled",
         "negative",
         "negative",
         "0.57825404"
        ],
        [
         "47",
         "of the boulder-strewn mountain, and when they will crop.",
         "no_impact",
         "no_impact",
         "0.99291116"
        ],
        [
         "48",
         "with which his house is haunted;",
         "negative",
         "no_impact",
         "0.51165885"
        ],
        [
         "49",
         "(thy kingdom come) with his revealéd face",
         "no_impact",
         "no_impact",
         "0.5025267"
        ]
       ],
       "shape": {
        "columns": 4,
        "rows": 50
       }
      },
      "text/html": [
       "<div>\n",
       "<style scoped>\n",
       "    .dataframe tbody tr th:only-of-type {\n",
       "        vertical-align: middle;\n",
       "    }\n",
       "\n",
       "    .dataframe tbody tr th {\n",
       "        vertical-align: top;\n",
       "    }\n",
       "\n",
       "    .dataframe thead th {\n",
       "        text-align: right;\n",
       "    }\n",
       "</style>\n",
       "<table border=\"1\" class=\"dataframe\">\n",
       "  <thead>\n",
       "    <tr style=\"text-align: right;\">\n",
       "      <th></th>\n",
       "      <th>verse_text</th>\n",
       "      <th>true_label</th>\n",
       "      <th>pred_label</th>\n",
       "      <th>pred_confidence</th>\n",
       "    </tr>\n",
       "  </thead>\n",
       "  <tbody>\n",
       "    <tr>\n",
       "      <th>0</th>\n",
       "      <td>half the tell-tale south-wind said,--</td>\n",
       "      <td>no_impact</td>\n",
       "      <td>no_impact</td>\n",
       "      <td>0.979487</td>\n",
       "    </tr>\n",
       "    <tr>\n",
       "      <th>1</th>\n",
       "      <td>i look up from this page of thine,</td>\n",
       "      <td>no_impact</td>\n",
       "      <td>no_impact</td>\n",
       "      <td>0.982582</td>\n",
       "    </tr>\n",
       "    <tr>\n",
       "      <th>2</th>\n",
       "      <td>he hid his gold,</td>\n",
       "      <td>no_impact</td>\n",
       "      <td>no_impact</td>\n",
       "      <td>0.912135</td>\n",
       "    </tr>\n",
       "    <tr>\n",
       "      <th>3</th>\n",
       "      <td>if they are hungry, paradise</td>\n",
       "      <td>no_impact</td>\n",
       "      <td>no_impact</td>\n",
       "      <td>0.453501</td>\n",
       "    </tr>\n",
       "    <tr>\n",
       "      <th>4</th>\n",
       "      <td>the fear of angels, awful though they be,</td>\n",
       "      <td>negative</td>\n",
       "      <td>negative</td>\n",
       "      <td>0.955051</td>\n",
       "    </tr>\n",
       "    <tr>\n",
       "      <th>5</th>\n",
       "      <td>shall live my highland mary.</td>\n",
       "      <td>no_impact</td>\n",
       "      <td>no_impact</td>\n",
       "      <td>0.668179</td>\n",
       "    </tr>\n",
       "    <tr>\n",
       "      <th>6</th>\n",
       "      <td>and i turned away to thee,</td>\n",
       "      <td>no_impact</td>\n",
       "      <td>no_impact</td>\n",
       "      <td>0.649946</td>\n",
       "    </tr>\n",
       "    <tr>\n",
       "      <th>7</th>\n",
       "      <td>i met them one day and each had a flower</td>\n",
       "      <td>no_impact</td>\n",
       "      <td>no_impact</td>\n",
       "      <td>0.955264</td>\n",
       "    </tr>\n",
       "    <tr>\n",
       "      <th>8</th>\n",
       "      <td>this endless outrage shall they still sustain?</td>\n",
       "      <td>negative</td>\n",
       "      <td>negative</td>\n",
       "      <td>0.782731</td>\n",
       "    </tr>\n",
       "    <tr>\n",
       "      <th>9</th>\n",
       "      <td>now is past since last we met</td>\n",
       "      <td>no_impact</td>\n",
       "      <td>no_impact</td>\n",
       "      <td>0.962448</td>\n",
       "    </tr>\n",
       "    <tr>\n",
       "      <th>10</th>\n",
       "      <td>thus while the trojan prince employs his eyes,</td>\n",
       "      <td>no_impact</td>\n",
       "      <td>no_impact</td>\n",
       "      <td>0.501848</td>\n",
       "    </tr>\n",
       "    <tr>\n",
       "      <th>11</th>\n",
       "      <td>blow bigger then your own: the games we play</td>\n",
       "      <td>no_impact</td>\n",
       "      <td>no_impact</td>\n",
       "      <td>0.432613</td>\n",
       "    </tr>\n",
       "    <tr>\n",
       "      <th>12</th>\n",
       "      <td>he might have been as doubtful once</td>\n",
       "      <td>no_impact</td>\n",
       "      <td>no_impact</td>\n",
       "      <td>0.863611</td>\n",
       "    </tr>\n",
       "    <tr>\n",
       "      <th>13</th>\n",
       "      <td>they beached their galley on the shore, and so...</td>\n",
       "      <td>no_impact</td>\n",
       "      <td>no_impact</td>\n",
       "      <td>0.649557</td>\n",
       "    </tr>\n",
       "    <tr>\n",
       "      <th>14</th>\n",
       "      <td>and others say, as we have said:</td>\n",
       "      <td>no_impact</td>\n",
       "      <td>no_impact</td>\n",
       "      <td>0.983163</td>\n",
       "    </tr>\n",
       "    <tr>\n",
       "      <th>15</th>\n",
       "      <td>youth, i do adore thee;</td>\n",
       "      <td>positive</td>\n",
       "      <td>positive</td>\n",
       "      <td>0.715145</td>\n",
       "    </tr>\n",
       "    <tr>\n",
       "      <th>16</th>\n",
       "      <td>sith i might some counsel find</td>\n",
       "      <td>no_impact</td>\n",
       "      <td>no_impact</td>\n",
       "      <td>0.971353</td>\n",
       "    </tr>\n",
       "    <tr>\n",
       "      <th>17</th>\n",
       "      <td>where the warm life we cannot see--</td>\n",
       "      <td>positive</td>\n",
       "      <td>no_impact</td>\n",
       "      <td>0.526661</td>\n",
       "    </tr>\n",
       "    <tr>\n",
       "      <th>18</th>\n",
       "      <td>a simple strain--</td>\n",
       "      <td>no_impact</td>\n",
       "      <td>no_impact</td>\n",
       "      <td>0.696729</td>\n",
       "    </tr>\n",
       "    <tr>\n",
       "      <th>19</th>\n",
       "      <td>but still within my bosom's core</td>\n",
       "      <td>no_impact</td>\n",
       "      <td>no_impact</td>\n",
       "      <td>0.917726</td>\n",
       "    </tr>\n",
       "    <tr>\n",
       "      <th>20</th>\n",
       "      <td>a wail of utter agony</td>\n",
       "      <td>negative</td>\n",
       "      <td>negative</td>\n",
       "      <td>0.994098</td>\n",
       "    </tr>\n",
       "    <tr>\n",
       "      <th>21</th>\n",
       "      <td>down deep in the ground a box of gold.</td>\n",
       "      <td>no_impact</td>\n",
       "      <td>no_impact</td>\n",
       "      <td>0.960399</td>\n",
       "    </tr>\n",
       "    <tr>\n",
       "      <th>22</th>\n",
       "      <td>that we must change for heav'n, this mournful ...</td>\n",
       "      <td>negative</td>\n",
       "      <td>negative</td>\n",
       "      <td>0.608001</td>\n",
       "    </tr>\n",
       "    <tr>\n",
       "      <th>23</th>\n",
       "      <td>shall dwell in the house of my fathers and the...</td>\n",
       "      <td>positive</td>\n",
       "      <td>no_impact</td>\n",
       "      <td>0.824282</td>\n",
       "    </tr>\n",
       "    <tr>\n",
       "      <th>24</th>\n",
       "      <td>but, fixing on the horrid maid his eye,</td>\n",
       "      <td>negative</td>\n",
       "      <td>negative</td>\n",
       "      <td>0.933299</td>\n",
       "    </tr>\n",
       "    <tr>\n",
       "      <th>25</th>\n",
       "      <td>from its stem the ripening ear--</td>\n",
       "      <td>no_impact</td>\n",
       "      <td>no_impact</td>\n",
       "      <td>0.829013</td>\n",
       "    </tr>\n",
       "    <tr>\n",
       "      <th>26</th>\n",
       "      <td>i cannot tell rude listeners</td>\n",
       "      <td>negative</td>\n",
       "      <td>no_impact</td>\n",
       "      <td>0.562701</td>\n",
       "    </tr>\n",
       "    <tr>\n",
       "      <th>27</th>\n",
       "      <td>of long-uncoupled bed, and childless eld,</td>\n",
       "      <td>no_impact</td>\n",
       "      <td>no_impact</td>\n",
       "      <td>0.809461</td>\n",
       "    </tr>\n",
       "    <tr>\n",
       "      <th>28</th>\n",
       "      <td>whut i keer ef day is long,</td>\n",
       "      <td>no_impact</td>\n",
       "      <td>no_impact</td>\n",
       "      <td>0.986960</td>\n",
       "    </tr>\n",
       "    <tr>\n",
       "      <th>29</th>\n",
       "      <td>i see the thing as clear as light,--</td>\n",
       "      <td>positive</td>\n",
       "      <td>no_impact</td>\n",
       "      <td>0.749274</td>\n",
       "    </tr>\n",
       "    <tr>\n",
       "      <th>30</th>\n",
       "      <td>that i an accessary needs must be,</td>\n",
       "      <td>no_impact</td>\n",
       "      <td>no_impact</td>\n",
       "      <td>0.888289</td>\n",
       "    </tr>\n",
       "    <tr>\n",
       "      <th>31</th>\n",
       "      <td>of robert burns and alexander.</td>\n",
       "      <td>no_impact</td>\n",
       "      <td>negative</td>\n",
       "      <td>0.922616</td>\n",
       "    </tr>\n",
       "    <tr>\n",
       "      <th>32</th>\n",
       "      <td>with shame his glowing cheeks, his eyes with f...</td>\n",
       "      <td>negative</td>\n",
       "      <td>negative</td>\n",
       "      <td>0.978397</td>\n",
       "    </tr>\n",
       "    <tr>\n",
       "      <th>33</th>\n",
       "      <td>crouching and sleeping neath its grassy lair,</td>\n",
       "      <td>no_impact</td>\n",
       "      <td>no_impact</td>\n",
       "      <td>0.969781</td>\n",
       "    </tr>\n",
       "    <tr>\n",
       "      <th>34</th>\n",
       "      <td>to wakeful frenzy's vigil--rages,</td>\n",
       "      <td>negative</td>\n",
       "      <td>negative</td>\n",
       "      <td>0.906564</td>\n",
       "    </tr>\n",
       "    <tr>\n",
       "      <th>35</th>\n",
       "      <td>and the tree trembled, and the shouting cries</td>\n",
       "      <td>negative</td>\n",
       "      <td>negative</td>\n",
       "      <td>0.996409</td>\n",
       "    </tr>\n",
       "    <tr>\n",
       "      <th>36</th>\n",
       "      <td>roamed amongst the roses white and red.</td>\n",
       "      <td>no_impact</td>\n",
       "      <td>no_impact</td>\n",
       "      <td>0.927099</td>\n",
       "    </tr>\n",
       "    <tr>\n",
       "      <th>37</th>\n",
       "      <td>for the whole cardinals' college, or</td>\n",
       "      <td>no_impact</td>\n",
       "      <td>no_impact</td>\n",
       "      <td>0.873294</td>\n",
       "    </tr>\n",
       "    <tr>\n",
       "      <th>38</th>\n",
       "      <td>their names let hands of horn and tan</td>\n",
       "      <td>no_impact</td>\n",
       "      <td>no_impact</td>\n",
       "      <td>0.934830</td>\n",
       "    </tr>\n",
       "    <tr>\n",
       "      <th>39</th>\n",
       "      <td>yea, soon, no consonant unsmooth</td>\n",
       "      <td>no_impact</td>\n",
       "      <td>no_impact</td>\n",
       "      <td>0.969160</td>\n",
       "    </tr>\n",
       "    <tr>\n",
       "      <th>40</th>\n",
       "      <td>the moon hath veiled her face,</td>\n",
       "      <td>no_impact</td>\n",
       "      <td>no_impact</td>\n",
       "      <td>0.435072</td>\n",
       "    </tr>\n",
       "    <tr>\n",
       "      <th>41</th>\n",
       "      <td>down in lovah's lane.</td>\n",
       "      <td>no_impact</td>\n",
       "      <td>no_impact</td>\n",
       "      <td>0.949465</td>\n",
       "    </tr>\n",
       "    <tr>\n",
       "      <th>42</th>\n",
       "      <td>indignantly i hurled the cry:</td>\n",
       "      <td>negative</td>\n",
       "      <td>negative</td>\n",
       "      <td>0.989699</td>\n",
       "    </tr>\n",
       "    <tr>\n",
       "      <th>43</th>\n",
       "      <td>fit for an abbot of theleme,</td>\n",
       "      <td>no_impact</td>\n",
       "      <td>no_impact</td>\n",
       "      <td>0.703851</td>\n",
       "    </tr>\n",
       "    <tr>\n",
       "      <th>44</th>\n",
       "      <td>the life of love that gave it--settles.</td>\n",
       "      <td>positive</td>\n",
       "      <td>positive</td>\n",
       "      <td>0.430997</td>\n",
       "    </tr>\n",
       "    <tr>\n",
       "      <th>45</th>\n",
       "      <td>such days as thou, not even thou didst know,</td>\n",
       "      <td>no_impact</td>\n",
       "      <td>no_impact</td>\n",
       "      <td>0.959295</td>\n",
       "    </tr>\n",
       "    <tr>\n",
       "      <th>46</th>\n",
       "      <td>those wastes of frozen billows that were hurled</td>\n",
       "      <td>negative</td>\n",
       "      <td>negative</td>\n",
       "      <td>0.578254</td>\n",
       "    </tr>\n",
       "    <tr>\n",
       "      <th>47</th>\n",
       "      <td>of the boulder-strewn mountain, and when they ...</td>\n",
       "      <td>no_impact</td>\n",
       "      <td>no_impact</td>\n",
       "      <td>0.992911</td>\n",
       "    </tr>\n",
       "    <tr>\n",
       "      <th>48</th>\n",
       "      <td>with which his house is haunted;</td>\n",
       "      <td>negative</td>\n",
       "      <td>no_impact</td>\n",
       "      <td>0.511659</td>\n",
       "    </tr>\n",
       "    <tr>\n",
       "      <th>49</th>\n",
       "      <td>(thy kingdom come) with his revealéd face</td>\n",
       "      <td>no_impact</td>\n",
       "      <td>no_impact</td>\n",
       "      <td>0.502527</td>\n",
       "    </tr>\n",
       "  </tbody>\n",
       "</table>\n",
       "</div>"
      ],
      "text/plain": [
       "                                           verse_text true_label pred_label  \\\n",
       "0               half the tell-tale south-wind said,--  no_impact  no_impact   \n",
       "1                  i look up from this page of thine,  no_impact  no_impact   \n",
       "2                                    he hid his gold,  no_impact  no_impact   \n",
       "3                        if they are hungry, paradise  no_impact  no_impact   \n",
       "4           the fear of angels, awful though they be,   negative   negative   \n",
       "5                        shall live my highland mary.  no_impact  no_impact   \n",
       "6                          and i turned away to thee,  no_impact  no_impact   \n",
       "7            i met them one day and each had a flower  no_impact  no_impact   \n",
       "8      this endless outrage shall they still sustain?   negative   negative   \n",
       "9                       now is past since last we met  no_impact  no_impact   \n",
       "10     thus while the trojan prince employs his eyes,  no_impact  no_impact   \n",
       "11       blow bigger then your own: the games we play  no_impact  no_impact   \n",
       "12                he might have been as doubtful once  no_impact  no_impact   \n",
       "13  they beached their galley on the shore, and so...  no_impact  no_impact   \n",
       "14                   and others say, as we have said:  no_impact  no_impact   \n",
       "15                            youth, i do adore thee;   positive   positive   \n",
       "16                     sith i might some counsel find  no_impact  no_impact   \n",
       "17                where the warm life we cannot see--   positive  no_impact   \n",
       "18                                  a simple strain--  no_impact  no_impact   \n",
       "19                   but still within my bosom's core  no_impact  no_impact   \n",
       "20                              a wail of utter agony   negative   negative   \n",
       "21             down deep in the ground a box of gold.  no_impact  no_impact   \n",
       "22  that we must change for heav'n, this mournful ...   negative   negative   \n",
       "23  shall dwell in the house of my fathers and the...   positive  no_impact   \n",
       "24            but, fixing on the horrid maid his eye,   negative   negative   \n",
       "25                   from its stem the ripening ear--  no_impact  no_impact   \n",
       "26                       i cannot tell rude listeners   negative  no_impact   \n",
       "27          of long-uncoupled bed, and childless eld,  no_impact  no_impact   \n",
       "28                        whut i keer ef day is long,  no_impact  no_impact   \n",
       "29               i see the thing as clear as light,--   positive  no_impact   \n",
       "30                 that i an accessary needs must be,  no_impact  no_impact   \n",
       "31                     of robert burns and alexander.  no_impact   negative   \n",
       "32  with shame his glowing cheeks, his eyes with f...   negative   negative   \n",
       "33      crouching and sleeping neath its grassy lair,  no_impact  no_impact   \n",
       "34                  to wakeful frenzy's vigil--rages,   negative   negative   \n",
       "35      and the tree trembled, and the shouting cries   negative   negative   \n",
       "36            roamed amongst the roses white and red.  no_impact  no_impact   \n",
       "37               for the whole cardinals' college, or  no_impact  no_impact   \n",
       "38              their names let hands of horn and tan  no_impact  no_impact   \n",
       "39                   yea, soon, no consonant unsmooth  no_impact  no_impact   \n",
       "40                     the moon hath veiled her face,  no_impact  no_impact   \n",
       "41                              down in lovah's lane.  no_impact  no_impact   \n",
       "42                      indignantly i hurled the cry:   negative   negative   \n",
       "43                       fit for an abbot of theleme,  no_impact  no_impact   \n",
       "44            the life of love that gave it--settles.   positive   positive   \n",
       "45       such days as thou, not even thou didst know,  no_impact  no_impact   \n",
       "46    those wastes of frozen billows that were hurled   negative   negative   \n",
       "47  of the boulder-strewn mountain, and when they ...  no_impact  no_impact   \n",
       "48                   with which his house is haunted;   negative  no_impact   \n",
       "49          (thy kingdom come) with his revealéd face  no_impact  no_impact   \n",
       "\n",
       "    pred_confidence  \n",
       "0          0.979487  \n",
       "1          0.982582  \n",
       "2          0.912135  \n",
       "3          0.453501  \n",
       "4          0.955051  \n",
       "5          0.668179  \n",
       "6          0.649946  \n",
       "7          0.955264  \n",
       "8          0.782731  \n",
       "9          0.962448  \n",
       "10         0.501848  \n",
       "11         0.432613  \n",
       "12         0.863611  \n",
       "13         0.649557  \n",
       "14         0.983163  \n",
       "15         0.715145  \n",
       "16         0.971353  \n",
       "17         0.526661  \n",
       "18         0.696729  \n",
       "19         0.917726  \n",
       "20         0.994098  \n",
       "21         0.960399  \n",
       "22         0.608001  \n",
       "23         0.824282  \n",
       "24         0.933299  \n",
       "25         0.829013  \n",
       "26         0.562701  \n",
       "27         0.809461  \n",
       "28         0.986960  \n",
       "29         0.749274  \n",
       "30         0.888289  \n",
       "31         0.922616  \n",
       "32         0.978397  \n",
       "33         0.969781  \n",
       "34         0.906564  \n",
       "35         0.996409  \n",
       "36         0.927099  \n",
       "37         0.873294  \n",
       "38         0.934830  \n",
       "39         0.969160  \n",
       "40         0.435072  \n",
       "41         0.949465  \n",
       "42         0.989699  \n",
       "43         0.703851  \n",
       "44         0.430997  \n",
       "45         0.959295  \n",
       "46         0.578254  \n",
       "47         0.992911  \n",
       "48         0.511659  \n",
       "49         0.502527  "
      ]
     },
     "metadata": {},
     "output_type": "display_data"
    }
   ],
   "source": [
    "# Muestra predicciones vs etiquetas reales para algunas muestras del conjunto de prueba\n",
    "num_examples = 50\n",
    "rng = np.random.default_rng(SEED)\n",
    "sample_indices = rng.choice(len(test_texts), size=min(num_examples, len(test_texts)), replace=False)\n",
    "\n",
    "test_sample = pd.DataFrame({\n",
    "    \"verse_text\": test_texts.iloc[sample_indices].tolist(),\n",
    "    \"true_label\": [encoded_to_name[idx] for idx in y_test[sample_indices]],\n",
    "})\n",
    "predicted_labels = mlp_clf.predict(X_test_ready[sample_indices])\n",
    "predicted_probs = mlp_clf.predict_proba(X_test_ready[sample_indices])\n",
    "\n",
    "test_sample[\"pred_label\"] = [encoded_to_name[idx] for idx in predicted_labels]\n",
    "test_sample[\"pred_confidence\"] = predicted_probs.max(axis=1)\n",
    "\n",
    "display(test_sample)"
   ]
  },
  {
   "cell_type": "markdown",
   "id": "ec142bb9",
   "metadata": {},
   "source": [
    "## 8. Guardar artefactos del modelo\n",
    "Persiste los componentes críticos del pipeline (`scaler`, `pca`, MLP y metadatos) para reutilizarlos en inferencia o deployment."
   ]
  },
  {
   "cell_type": "code",
   "execution_count": 12,
   "id": "0598f571",
   "metadata": {},
   "outputs": [
    {
     "name": "stdout",
     "output_type": "stream",
     "text": [
      "Artifacts saved in: D:\\Proyectos_DiplomadoIA\\Sentiment Analysis\\artifacts\\multilingual_mlp\n",
      "Saved files: scaler → scaler.joblib, model → mlp_classifier.joblib, metadata → metadata.json\n",
      "PCA component saved as: pca.joblib\n"
     ]
    }
   ],
   "source": [
    "artifacts_dir = Path(\"artifacts/multilingual_mlp\")\n",
    "artifacts_dir.mkdir(parents=True, exist_ok=True)\n",
    "\n",
    "scaler_path = artifacts_dir / \"scaler.joblib\"\n",
    "model_path = artifacts_dir / \"mlp_classifier.joblib\"\n",
    "pca_path = artifacts_dir / \"pca.joblib\" if pca is not None else None\n",
    "\n",
    "joblib.dump(scaler, scaler_path)\n",
    "joblib.dump(mlp_clf, model_path)\n",
    "if pca_path is not None:\n",
    "    joblib.dump(pca, pca_path)\n",
    "\n",
    "metadata = {\n",
    "    \"embedder\": multilingual_model_name,\n",
    "    \"device\": DEVICE,\n",
    "    \"pca_applied\": bool(pca is not None),\n",
    "    \"pca_variance\": pca_variance,\n",
    "    \"label_mapping_original_to_encoded\": original_to_encoded,\n",
    "    \"encoded_to_name\": encoded_to_name,\n",
    "    \"validation_metrics\": {k: float(v) for k, v in validation_metrics.items()},\n",
    "    \"test_metrics\": {k: float(v) for k, v in test_metrics.items()},\n",
    "}\n",
    "metadata_path = artifacts_dir / \"metadata.json\"\n",
    "with metadata_path.open(\"w\", encoding=\"utf-8\") as f:\n",
    "    json.dump(metadata, f, indent=2)\n",
    "\n",
    "print(f\"Artifacts saved in: {artifacts_dir.resolve()}\")\n",
    "print(f\"Saved files: scaler → {scaler_path.name}, model → {model_path.name}, metadata → {metadata_path.name}\")\n",
    "if pca_path is not None:\n",
    "    print(f\"PCA component saved as: {pca_path.name}\")"
   ]
  }
 ],
 "metadata": {
  "kernelspec": {
   "display_name": "dipEnv",
   "language": "python",
   "name": "python3"
  },
  "language_info": {
   "codemirror_mode": {
    "name": "ipython",
    "version": 3
   },
   "file_extension": ".py",
   "mimetype": "text/x-python",
   "name": "python",
   "nbconvert_exporter": "python",
   "pygments_lexer": "ipython3",
   "version": "3.14.0"
  }
 },
 "nbformat": 4,
 "nbformat_minor": 5
}
